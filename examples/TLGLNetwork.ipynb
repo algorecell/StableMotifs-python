{
 "cells": [
  {
   "cell_type": "code",
   "execution_count": 1,
   "metadata": {},
   "outputs": [],
   "source": [
    "import stablemotifs\n",
    "from colomoto_jupyter import tabulate"
   ]
  },
  {
   "cell_type": "code",
   "execution_count": 2,
   "metadata": {},
   "outputs": [
    {
     "data": {
      "text/markdown": [
       "Downloading https://raw.githubusercontent.com/jgtz/StableMotifs/master/TLGLNetwork.txt"
      ],
      "text/plain": [
       "<IPython.core.display.Markdown object>"
      ]
     },
     "metadata": {},
     "output_type": "display_data"
    },
    {
     "name": "stdout",
     "output_type": "stream",
     "text": [
      "\n",
      "Filename: colomoto9sw0_r51TLGLNetwork.txt\n",
      "Creating Boolean table directory: colomoto9sw0_r51TLGLNetwork\n",
      "Boolean table directory created.\n",
      "Creating functions and names files.\n",
      "Functions and names files created.\n",
      "Performing network reduction...\n",
      "Finding stable motifs in this network...\n",
      "There are 4 stable motifs in this network: \n",
      "1/4\tPDGFR=0\tS1P=0\tSPHK1=0\t\n",
      "2/4\tP2=1\t\n",
      "3/4\tTBET=1\t\n",
      "4/4\tCeramide=0\tPDGFR=1\tS1P=1\tSPHK1=1\t\n",
      "There is 1 oscillating motif in this network that could display unstable or incomplete oscillations.\n",
      "Performing network reduction using motif 1/5...\n",
      "Performing network reduction using motif 2/5...\n",
      "Performing network reduction using motif 3/5...\n",
      "Performing network reduction using motif 4/5...\n",
      "Performing network reduction using motif 5/5...\n",
      "Network reduction complete.\n",
      "Removing duplicate quasi-attractors.\n",
      "Total number of quasi-attractors: 3\n",
      "Number of putative quasi-attractors: 0\n",
      "Total time for finding quasi-attractors: 69.412159638 s\n",
      "Writing TXT files with quasi-attractors and stable motifs.\n",
      "Starting analyis of stable motif succession diagram.\n",
      "Identifying quasi-attractors corresponding to stable motif sequences.\n",
      "Shortening stable motif sequences.\n",
      "Finding control sets for each stable motif...\n",
      "Creating control sets for each stable motif sequence.\n",
      "Removing duplicates control sets.\n",
      "Total time for finding stable motif control sets: 20.315656743 s\n",
      "Writing TXT files with stable motif control sets.\n",
      "Done!\n",
      "CPU times: user 28 ms, sys: 9.81 ms, total: 37.8 ms\n",
      "Wall time: 1min 32s\n"
     ]
    }
   ],
   "source": [
    "%time stm = stablemotifs.load(\"https://raw.githubusercontent.com/jgtz/StableMotifs/master/TLGLNetwork.txt\")"
   ]
  },
  {
   "cell_type": "code",
   "execution_count": 3,
   "metadata": {
    "scrolled": true
   },
   "outputs": [
    {
     "data": {
      "text/markdown": [
       "<table>\n",
       "<thead>\n",
       "<tr><th style=\"text-align: right;\">  </th><th style=\"text-align: right;\">  Cytoskeleton_signaling</th><th style=\"text-align: right;\">  Proliferation</th><th style=\"text-align: right;\">  Apoptosis</th><th style=\"text-align: right;\">  Stimuli2</th><th style=\"text-align: right;\">  Ceramide</th><th style=\"text-align: right;\">  Caspase</th><th style=\"text-align: right;\">  Stimuli</th><th style=\"text-align: right;\">  IL2RAT</th><th style=\"text-align: right;\">  IL2RBT</th><th style=\"text-align: right;\">  RANTES</th><th style=\"text-align: right;\">  IL2RB</th><th style=\"text-align: right;\">  IL2RA</th><th style=\"text-align: right;\">  BclxL</th><th style=\"text-align: right;\">  STAT3</th><th style=\"text-align: right;\">  IFNGT</th><th style=\"text-align: right;\">  PLCG1</th><th style=\"text-align: right;\">  PDGFR</th><th style=\"text-align: right;\">  ZAP70</th><th style=\"text-align: right;\">  SPHK1</th><th>CTLA4  </th><th style=\"text-align: right;\">  TRADD</th><th style=\"text-align: right;\">  FasT</th><th style=\"text-align: right;\">  GRB2</th><th style=\"text-align: right;\">  PDGF</th><th style=\"text-align: right;\">  FasL</th><th style=\"text-align: right;\">  SOCS</th><th style=\"text-align: right;\">  GZMB</th><th style=\"text-align: right;\">  MCL1</th><th style=\"text-align: right;\">  SMAD</th><th style=\"text-align: right;\">  CREB</th><th style=\"text-align: right;\">  NFAT</th><th style=\"text-align: right;\">  FLIP</th><th style=\"text-align: right;\">  TPL2</th><th style=\"text-align: right;\">  CD45</th><th style=\"text-align: right;\">  TBET</th><th style=\"text-align: right;\">  GPCR</th><th style=\"text-align: right;\">  DISC</th><th style=\"text-align: right;\">  IFNG</th><th style=\"text-align: right;\">  NFKB</th><th style=\"text-align: right;\">  IL15</th><th style=\"text-align: right;\">  PI3K</th><th style=\"text-align: right;\">  sFas</th><th style=\"text-align: right;\">  Fas</th><th style=\"text-align: right;\">  JAK</th><th style=\"text-align: right;\">  IL2</th><th style=\"text-align: right;\">  BID</th><th style=\"text-align: right;\">  FYN</th><th style=\"text-align: right;\">  S1P</th><th>TCR  </th><th style=\"text-align: right;\">  A20</th><th style=\"text-align: right;\">  ERK</th><th style=\"text-align: right;\">  IAP</th><th style=\"text-align: right;\">  GAP</th><th style=\"text-align: right;\">  LCK</th><th style=\"text-align: right;\">  MEK</th><th style=\"text-align: right;\">  P27</th><th style=\"text-align: right;\">  TNF</th><th style=\"text-align: right;\">  TAX</th><th style=\"text-align: right;\">  RAS</th><th style=\"text-align: right;\">  P2</th></tr>\n",
       "</thead>\n",
       "<tbody>\n",
       "<tr><td style=\"text-align: right;\"> 0</td><td style=\"text-align: right;\">                       1</td><td style=\"text-align: right;\">              0</td><td style=\"text-align: right;\">          1</td><td style=\"text-align: right;\">         0</td><td style=\"text-align: right;\">         1</td><td style=\"text-align: right;\">        1</td><td style=\"text-align: right;\">        1</td><td style=\"text-align: right;\">       0</td><td style=\"text-align: right;\">       1</td><td style=\"text-align: right;\">       1</td><td style=\"text-align: right;\">      1</td><td style=\"text-align: right;\">      0</td><td style=\"text-align: right;\">      0</td><td style=\"text-align: right;\">      1</td><td style=\"text-align: right;\">      1</td><td style=\"text-align: right;\">      1</td><td style=\"text-align: right;\">      0</td><td style=\"text-align: right;\">      0</td><td style=\"text-align: right;\">      0</td><td>X      </td><td style=\"text-align: right;\">      0</td><td style=\"text-align: right;\">     1</td><td style=\"text-align: right;\">     1</td><td style=\"text-align: right;\">     0</td><td style=\"text-align: right;\">     1</td><td style=\"text-align: right;\">     0</td><td style=\"text-align: right;\">     1</td><td style=\"text-align: right;\">     0</td><td style=\"text-align: right;\">     0</td><td style=\"text-align: right;\">     0</td><td style=\"text-align: right;\">     1</td><td style=\"text-align: right;\">     0</td><td style=\"text-align: right;\">     1</td><td style=\"text-align: right;\">     0</td><td style=\"text-align: right;\">     1</td><td style=\"text-align: right;\">     0</td><td style=\"text-align: right;\">     1</td><td style=\"text-align: right;\">     0</td><td style=\"text-align: right;\">     1</td><td style=\"text-align: right;\">     1</td><td style=\"text-align: right;\">     1</td><td style=\"text-align: right;\">     0</td><td style=\"text-align: right;\">    1</td><td style=\"text-align: right;\">    1</td><td style=\"text-align: right;\">    0</td><td style=\"text-align: right;\">    1</td><td style=\"text-align: right;\">    1</td><td style=\"text-align: right;\">    0</td><td>X    </td><td style=\"text-align: right;\">    1</td><td style=\"text-align: right;\">    1</td><td style=\"text-align: right;\">    0</td><td style=\"text-align: right;\">    0</td><td style=\"text-align: right;\">    1</td><td style=\"text-align: right;\">    1</td><td style=\"text-align: right;\">    1</td><td style=\"text-align: right;\">    1</td><td style=\"text-align: right;\">    0</td><td style=\"text-align: right;\">    1</td><td style=\"text-align: right;\">   1</td></tr>\n",
       "<tr><td style=\"text-align: right;\"> 1</td><td style=\"text-align: right;\">                       1</td><td style=\"text-align: right;\">              0</td><td style=\"text-align: right;\">          0</td><td style=\"text-align: right;\">         0</td><td style=\"text-align: right;\">         0</td><td style=\"text-align: right;\">        0</td><td style=\"text-align: right;\">        1</td><td style=\"text-align: right;\">       0</td><td style=\"text-align: right;\">       1</td><td style=\"text-align: right;\">       1</td><td style=\"text-align: right;\">      1</td><td style=\"text-align: right;\">      0</td><td style=\"text-align: right;\">      0</td><td style=\"text-align: right;\">      1</td><td style=\"text-align: right;\">      1</td><td style=\"text-align: right;\">      1</td><td style=\"text-align: right;\">      1</td><td style=\"text-align: right;\">      0</td><td style=\"text-align: right;\">      1</td><td>X      </td><td style=\"text-align: right;\">      0</td><td style=\"text-align: right;\">     1</td><td style=\"text-align: right;\">     1</td><td style=\"text-align: right;\">     0</td><td style=\"text-align: right;\">     1</td><td style=\"text-align: right;\">     0</td><td style=\"text-align: right;\">     1</td><td style=\"text-align: right;\">     1</td><td style=\"text-align: right;\">     1</td><td style=\"text-align: right;\">     0</td><td style=\"text-align: right;\">     1</td><td style=\"text-align: right;\">     1</td><td style=\"text-align: right;\">     1</td><td style=\"text-align: right;\">     0</td><td style=\"text-align: right;\">     1</td><td style=\"text-align: right;\">     1</td><td style=\"text-align: right;\">     0</td><td style=\"text-align: right;\">     0</td><td style=\"text-align: right;\">     1</td><td style=\"text-align: right;\">     1</td><td style=\"text-align: right;\">     1</td><td style=\"text-align: right;\">     1</td><td style=\"text-align: right;\">    0</td><td style=\"text-align: right;\">    1</td><td style=\"text-align: right;\">    0</td><td style=\"text-align: right;\">    0</td><td style=\"text-align: right;\">    1</td><td style=\"text-align: right;\">    1</td><td>X    </td><td style=\"text-align: right;\">    1</td><td style=\"text-align: right;\">    1</td><td style=\"text-align: right;\">    1</td><td style=\"text-align: right;\">    0</td><td style=\"text-align: right;\">    1</td><td style=\"text-align: right;\">    1</td><td style=\"text-align: right;\">    1</td><td style=\"text-align: right;\">    1</td><td style=\"text-align: right;\">    0</td><td style=\"text-align: right;\">    1</td><td style=\"text-align: right;\">   1</td></tr>\n",
       "<tr><td style=\"text-align: right;\"> 2</td><td style=\"text-align: right;\">                       1</td><td style=\"text-align: right;\">              0</td><td style=\"text-align: right;\">          0</td><td style=\"text-align: right;\">         0</td><td style=\"text-align: right;\">         0</td><td style=\"text-align: right;\">        0</td><td style=\"text-align: right;\">        1</td><td style=\"text-align: right;\">       0</td><td style=\"text-align: right;\">       1</td><td style=\"text-align: right;\">       1</td><td style=\"text-align: right;\">      1</td><td style=\"text-align: right;\">      0</td><td style=\"text-align: right;\">      0</td><td style=\"text-align: right;\">      1</td><td style=\"text-align: right;\">      1</td><td style=\"text-align: right;\">      1</td><td style=\"text-align: right;\">      1</td><td style=\"text-align: right;\">      0</td><td style=\"text-align: right;\">      1</td><td>X      </td><td style=\"text-align: right;\">      0</td><td style=\"text-align: right;\">     1</td><td style=\"text-align: right;\">     1</td><td style=\"text-align: right;\">     0</td><td style=\"text-align: right;\">     1</td><td style=\"text-align: right;\">     0</td><td style=\"text-align: right;\">     1</td><td style=\"text-align: right;\">     1</td><td style=\"text-align: right;\">     1</td><td style=\"text-align: right;\">     0</td><td style=\"text-align: right;\">     1</td><td style=\"text-align: right;\">     1</td><td style=\"text-align: right;\">     1</td><td style=\"text-align: right;\">     0</td><td style=\"text-align: right;\">     1</td><td style=\"text-align: right;\">     1</td><td style=\"text-align: right;\">     0</td><td style=\"text-align: right;\">     0</td><td style=\"text-align: right;\">     1</td><td style=\"text-align: right;\">     1</td><td style=\"text-align: right;\">     1</td><td style=\"text-align: right;\">     1</td><td style=\"text-align: right;\">    0</td><td style=\"text-align: right;\">    1</td><td style=\"text-align: right;\">    0</td><td style=\"text-align: right;\">    0</td><td style=\"text-align: right;\">    1</td><td style=\"text-align: right;\">    1</td><td>X    </td><td style=\"text-align: right;\">    1</td><td style=\"text-align: right;\">    1</td><td style=\"text-align: right;\">    1</td><td style=\"text-align: right;\">    0</td><td style=\"text-align: right;\">    1</td><td style=\"text-align: right;\">    1</td><td style=\"text-align: right;\">    1</td><td style=\"text-align: right;\">    1</td><td style=\"text-align: right;\">    0</td><td style=\"text-align: right;\">    1</td><td style=\"text-align: right;\">   0</td></tr>\n",
       "</tbody>\n",
       "</table>"
      ],
      "text/plain": [
       "<IPython.core.display.Markdown object>"
      ]
     },
     "execution_count": 3,
     "metadata": {},
     "output_type": "execute_result"
    }
   ],
   "source": [
    "tabulate(stm.attractors)"
   ]
  },
  {
   "cell_type": "code",
   "execution_count": 4,
   "metadata": {},
   "outputs": [
    {
     "data": {
      "text/plain": [
       "[{'PDGFR': 0, 'S1P': 0, 'SPHK1': 0},\n",
       " {'P2': 1},\n",
       " {'TBET': 1},\n",
       " {'Ceramide': 0, 'PDGFR': 1, 'S1P': 1, 'SPHK1': 1},\n",
       " {'ERK': 1, 'GRB2': 1, 'IL2RB': 1, 'IL2RBT': 1, 'MEK': 1, 'PI3K': 1, 'RAS': 1},\n",
       " {'Ceramide': 1, 'Fas': 1, 'S1P': 0, 'sFas': 0},\n",
       " {'P2': 0}]"
      ]
     },
     "execution_count": 4,
     "metadata": {},
     "output_type": "execute_result"
    }
   ],
   "source": [
    "stm.stable_motifs"
   ]
  },
  {
   "cell_type": "code",
   "execution_count": 5,
   "metadata": {},
   "outputs": [
    {
     "data": {
      "text/plain": [
       "{0: [{'PDGFR': 0},\n",
       "  {'S1P': 0},\n",
       "  {'SPHK1': 0},\n",
       "  {'Ceramide': 1, 'ERK': 1, 'TBET': 1},\n",
       "  {'Ceramide': 1, 'GRB2': 1, 'TBET': 1},\n",
       "  {'Ceramide': 1, 'IL2RB': 1, 'TBET': 1},\n",
       "  {'Ceramide': 1, 'IL2RBT': 1, 'TBET': 1},\n",
       "  {'Ceramide': 1, 'RAS': 1, 'TBET': 1},\n",
       "  {'Ceramide': 1, 'MEK': 1, 'PI3K': 1, 'TBET': 1}],\n",
       " 1: [{'P2': 1, 'S1P': 1},\n",
       "  {'Ceramide': 0, 'P2': 1, 'PDGFR': 1},\n",
       "  {'Ceramide': 0, 'P2': 1, 'SPHK1': 1}],\n",
       " 2: [{'P2': 0, 'S1P': 1},\n",
       "  {'Ceramide': 0, 'P2': 0, 'PDGFR': 1},\n",
       "  {'Ceramide': 0, 'P2': 0, 'SPHK1': 1}]}"
      ]
     },
     "execution_count": 5,
     "metadata": {},
     "output_type": "execute_result"
    }
   ],
   "source": [
    "stm.control_sets"
   ]
  },
  {
   "cell_type": "code",
   "execution_count": 6,
   "metadata": {},
   "outputs": [
    {
     "data": {
      "text/plain": [
       "[FromAny(TemporaryPerturbation(P2=1, S1P=1)),\n",
       " FromAny(TemporaryPerturbation(Ceramide=0, P2=1, PDGFR=1)),\n",
       " FromAny(TemporaryPerturbation(Ceramide=0, P2=1, SPHK1=1)),\n",
       " FromAny(TemporaryPerturbation(P2=0, S1P=1)),\n",
       " FromAny(TemporaryPerturbation(Ceramide=0, P2=0, PDGFR=1)),\n",
       " FromAny(TemporaryPerturbation(Ceramide=0, P2=0, SPHK1=1))]"
      ]
     },
     "execution_count": 6,
     "metadata": {},
     "output_type": "execute_result"
    }
   ],
   "source": [
    "s = stm.reprogramming_to_attractor(Apoptosis=0)\n",
    "s"
   ]
  },
  {
   "cell_type": "code",
   "execution_count": 7,
   "metadata": {},
   "outputs": [
    {
     "data": {
      "image/svg+xml": [
       "<?xml version=\"1.0\" encoding=\"UTF-8\" standalone=\"no\"?>\n",
       "<!DOCTYPE svg PUBLIC \"-//W3C//DTD SVG 1.1//EN\"\n",
       " \"http://www.w3.org/Graphics/SVG/1.1/DTD/svg11.dtd\">\n",
       "<!-- Generated by graphviz version 2.42.3 (20191010.1750)\n",
       " -->\n",
       "<!-- Title: %3 Pages: 1 -->\n",
       "<svg width=\"303pt\" height=\"193pt\"\n",
       " viewBox=\"0.00 0.00 303.40 192.81\" xmlns=\"http://www.w3.org/2000/svg\" xmlns:xlink=\"http://www.w3.org/1999/xlink\">\n",
       "<g id=\"graph0\" class=\"graph\" transform=\"scale(1 1) rotate(0) translate(4 188.81)\">\n",
       "<title>%3</title>\n",
       "<polygon fill=\"white\" stroke=\"transparent\" points=\"-4,4 -4,-188.81 299.4,-188.81 299.4,4 -4,4\"/>\n",
       "<!-- target -->\n",
       "<g id=\"node1\" class=\"node\">\n",
       "<title>target</title>\n",
       "<polygon fill=\"palegreen\" stroke=\"black\" points=\"252.2,-108.81 208.8,-90.81 252.2,-72.81 295.6,-90.81 252.2,-108.81\"/>\n",
       "<polyline fill=\"none\" stroke=\"black\" points=\"219.88,-95.41 219.88,-86.22 \"/>\n",
       "<polyline fill=\"none\" stroke=\"black\" points=\"241.12,-77.41 263.28,-77.41 \"/>\n",
       "<polyline fill=\"none\" stroke=\"black\" points=\"284.52,-86.22 284.52,-95.41 \"/>\n",
       "<polyline fill=\"none\" stroke=\"black\" points=\"263.28,-104.22 241.12,-104.22 \"/>\n",
       "<text text-anchor=\"middle\" x=\"252.2\" y=\"-87.11\" font-family=\"Times,serif\" font-size=\"14.00\">target</text>\n",
       "</g>\n",
       "<!-- any -->\n",
       "<g id=\"node2\" class=\"node\">\n",
       "<title>any</title>\n",
       "<g id=\"a_node2\"><a xlink:title=\"Any\">\n",
       "<ellipse fill=\"none\" stroke=\"black\" stroke-dasharray=\"1,5\" cx=\"18\" cy=\"-90.81\" rx=\"18\" ry=\"18\"/>\n",
       "</a>\n",
       "</g>\n",
       "</g>\n",
       "<!-- any&#45;&gt;target -->\n",
       "<g id=\"edge1\" class=\"edge\">\n",
       "<title>any&#45;&gt;target</title>\n",
       "<path fill=\"none\" stroke=\"black\" d=\"M23.33,-108.19C28.1,-123.23 37.39,-144.04 54,-153.81 106.48,-184.69 135.01,-177.75 191,-153.81 210.12,-145.64 226.07,-128.08 236.73,-113.57\"/>\n",
       "<polygon fill=\"black\" stroke=\"black\" points=\"239.83,-115.24 242.67,-105.04 234.08,-111.24 239.83,-115.24\"/>\n",
       "<g id=\"a_edge1&#45;label\"><a xlink:title=\"TemporaryPerturbation(P2=1, S1P=1)\">\n",
       "<text text-anchor=\"middle\" x=\"122.5\" y=\"-176.81\" font-family=\"Times,serif\" font-size=\"10.00\">T(P2=1, S1P=1)</text>\n",
       "</a>\n",
       "</g>\n",
       "</g>\n",
       "<!-- any&#45;&gt;target -->\n",
       "<g id=\"edge2\" class=\"edge\">\n",
       "<title>any&#45;&gt;target</title>\n",
       "<path fill=\"none\" stroke=\"black\" d=\"M30.6,-103.95C36.84,-110.03 45.09,-116.6 54,-119.81 111.28,-140.46 131.64,-133.37 191,-119.81 202.86,-117.11 215.11,-111.75 225.44,-106.37\"/>\n",
       "<polygon fill=\"black\" stroke=\"black\" points=\"227.23,-109.37 234.31,-101.49 223.86,-103.24 227.23,-109.37\"/>\n",
       "<g id=\"a_edge2&#45;label\"><a xlink:title=\"TemporaryPerturbation(Ceramide=0, P2=1, PDGFR=1)\">\n",
       "<text text-anchor=\"middle\" x=\"122.5\" y=\"-134.81\" font-family=\"Times,serif\" font-size=\"10.00\">T(Ceramide=0, P2=1, PDGFR=1)</text>\n",
       "</a>\n",
       "</g>\n",
       "</g>\n",
       "<!-- any&#45;&gt;target -->\n",
       "<g id=\"edge3\" class=\"edge\">\n",
       "<title>any&#45;&gt;target</title>\n",
       "<path fill=\"none\" stroke=\"black\" d=\"M36.07,-90.81C69.85,-90.81 146.43,-90.81 198.49,-90.81\"/>\n",
       "<polygon fill=\"black\" stroke=\"black\" points=\"198.55,-94.31 208.55,-90.81 198.55,-87.31 198.55,-94.31\"/>\n",
       "<g id=\"a_edge3&#45;label\"><a xlink:title=\"TemporaryPerturbation(Ceramide=0, P2=1, SPHK1=1)\">\n",
       "<text text-anchor=\"middle\" x=\"122.5\" y=\"-93.81\" font-family=\"Times,serif\" font-size=\"10.00\">T(Ceramide=0, P2=1, SPHK1=1)</text>\n",
       "</a>\n",
       "</g>\n",
       "</g>\n",
       "<!-- any&#45;&gt;target -->\n",
       "<g id=\"edge4\" class=\"edge\">\n",
       "<title>any&#45;&gt;target</title>\n",
       "<path fill=\"none\" stroke=\"black\" d=\"M34.24,-82.69C40.23,-79.93 47.27,-77.2 54,-75.81 113.65,-63.57 130.56,-68.4 191,-75.81 199.51,-76.86 208.55,-78.7 216.97,-80.75\"/>\n",
       "<polygon fill=\"black\" stroke=\"black\" points=\"216.29,-84.19 226.85,-83.31 218.05,-77.42 216.29,-84.19\"/>\n",
       "<g id=\"a_edge4&#45;label\"><a xlink:title=\"TemporaryPerturbation(P2=0, S1P=1)\">\n",
       "<text text-anchor=\"middle\" x=\"122.5\" y=\"-78.81\" font-family=\"Times,serif\" font-size=\"10.00\">T(P2=0, S1P=1)</text>\n",
       "</a>\n",
       "</g>\n",
       "</g>\n",
       "<!-- any&#45;&gt;target -->\n",
       "<g id=\"edge5\" class=\"edge\">\n",
       "<title>any&#45;&gt;target</title>\n",
       "<path fill=\"none\" stroke=\"black\" d=\"M28.33,-75.66C34.46,-67.22 43.32,-57.5 54,-52.81 109.76,-28.36 132.51,-35.9 191,-52.81 204.68,-56.77 218.24,-64.86 229.01,-72.56\"/>\n",
       "<polygon fill=\"black\" stroke=\"black\" points=\"226.91,-75.36 237.01,-78.57 231.12,-69.77 226.91,-75.36\"/>\n",
       "<g id=\"a_edge5&#45;label\"><a xlink:title=\"TemporaryPerturbation(Ceramide=0, P2=0, PDGFR=1)\">\n",
       "<text text-anchor=\"middle\" x=\"122.5\" y=\"-55.81\" font-family=\"Times,serif\" font-size=\"10.00\">T(Ceramide=0, P2=0, PDGFR=1)</text>\n",
       "</a>\n",
       "</g>\n",
       "</g>\n",
       "<!-- any&#45;&gt;target -->\n",
       "<g id=\"edge6\" class=\"edge\">\n",
       "<title>any&#45;&gt;target</title>\n",
       "<path fill=\"none\" stroke=\"black\" d=\"M22.51,-73.1C26.82,-56.6 35.91,-32.92 54,-21.81 105.89,10.05 135.57,3.39 191,-21.81 211.45,-31.11 227.66,-51.16 238.08,-67.26\"/>\n",
       "<polygon fill=\"black\" stroke=\"black\" points=\"235.34,-69.48 243.54,-76.18 241.31,-65.82 235.34,-69.48\"/>\n",
       "<g id=\"a_edge6&#45;label\"><a xlink:title=\"TemporaryPerturbation(Ceramide=0, P2=0, SPHK1=1)\">\n",
       "<text text-anchor=\"middle\" x=\"122.5\" y=\"-24.81\" font-family=\"Times,serif\" font-size=\"10.00\">T(Ceramide=0, P2=0, SPHK1=1)</text>\n",
       "</a>\n",
       "</g>\n",
       "</g>\n",
       "</g>\n",
       "</svg>\n"
      ],
      "text/plain": [
       "<pydot.Dot at 0x7fe0f9cd1990>"
      ]
     },
     "execution_count": 7,
     "metadata": {},
     "output_type": "execute_result"
    }
   ],
   "source": [
    "s.as_graph()"
   ]
  },
  {
   "cell_type": "code",
   "execution_count": 8,
   "metadata": {},
   "outputs": [
    {
     "data": {
      "text/html": [
       "<style  type=\"text/css\" >\n",
       "    #T_7fe8aebe_3d29_11ea_9594_54bf648dd46e th {\n",
       "          border-right: 1px solid black;\n",
       "    }    #T_7fe8aebe_3d29_11ea_9594_54bf648dd46e td {\n",
       "          border-right: 1px solid black;\n",
       "          min-width: 2em;\n",
       "    }    #T_7fe8aebe_3d29_11ea_9594_54bf648dd46e th.col_heading {\n",
       "          writing-mode: vertical-lr;\n",
       "          transform: rotateZ(180deg);\n",
       "          vertical-align: top;\n",
       "          border-bottom: 1px solid black;\n",
       "          text-orientation: mixed;\n",
       "    }    #T_7fe8aebe_3d29_11ea_9594_54bf648dd46erow0_col1 {\n",
       "            color:  green;\n",
       "             background-color:  green;\n",
       "        }    #T_7fe8aebe_3d29_11ea_9594_54bf648dd46erow0_col3 {\n",
       "            color:  green;\n",
       "             background-color:  green;\n",
       "        }    #T_7fe8aebe_3d29_11ea_9594_54bf648dd46erow1_col0 {\n",
       "            color:  red;\n",
       "             background-color:  red;\n",
       "        }    #T_7fe8aebe_3d29_11ea_9594_54bf648dd46erow1_col1 {\n",
       "            color:  red;\n",
       "             background-color:  red;\n",
       "        }    #T_7fe8aebe_3d29_11ea_9594_54bf648dd46erow1_col4 {\n",
       "            color:  green;\n",
       "             background-color:  green;\n",
       "        }    #T_7fe8aebe_3d29_11ea_9594_54bf648dd46erow2_col0 {\n",
       "            color:  red;\n",
       "             background-color:  red;\n",
       "        }    #T_7fe8aebe_3d29_11ea_9594_54bf648dd46erow2_col1 {\n",
       "            color:  red;\n",
       "             background-color:  red;\n",
       "        }    #T_7fe8aebe_3d29_11ea_9594_54bf648dd46erow2_col2 {\n",
       "            color:  green;\n",
       "             background-color:  green;\n",
       "        }    #T_7fe8aebe_3d29_11ea_9594_54bf648dd46erow3_col0 {\n",
       "            color:  red;\n",
       "             background-color:  red;\n",
       "        }    #T_7fe8aebe_3d29_11ea_9594_54bf648dd46erow3_col1 {\n",
       "            color:  green;\n",
       "             background-color:  green;\n",
       "        }    #T_7fe8aebe_3d29_11ea_9594_54bf648dd46erow3_col2 {\n",
       "            color:  green;\n",
       "             background-color:  green;\n",
       "        }    #T_7fe8aebe_3d29_11ea_9594_54bf648dd46erow4_col1 {\n",
       "            color:  red;\n",
       "             background-color:  red;\n",
       "        }    #T_7fe8aebe_3d29_11ea_9594_54bf648dd46erow4_col3 {\n",
       "            color:  green;\n",
       "             background-color:  green;\n",
       "        }    #T_7fe8aebe_3d29_11ea_9594_54bf648dd46erow5_col0 {\n",
       "            color:  red;\n",
       "             background-color:  red;\n",
       "        }    #T_7fe8aebe_3d29_11ea_9594_54bf648dd46erow5_col1 {\n",
       "            color:  green;\n",
       "             background-color:  green;\n",
       "        }    #T_7fe8aebe_3d29_11ea_9594_54bf648dd46erow5_col4 {\n",
       "            color:  green;\n",
       "             background-color:  green;\n",
       "        }</style><table id=\"T_7fe8aebe_3d29_11ea_9594_54bf648dd46e\" ><thead>    <tr>        <th class=\"blank level0\" ></th>        <th class=\"col_heading level0 col0\" >Ceramide</th>        <th class=\"col_heading level0 col1\" >P2</th>        <th class=\"col_heading level0 col2\" >PDGFR</th>        <th class=\"col_heading level0 col3\" >S1P</th>        <th class=\"col_heading level0 col4\" >SPHK1</th>    </tr></thead><tbody>\n",
       "                <tr>\n",
       "                        <th id=\"T_7fe8aebe_3d29_11ea_9594_54bf648dd46elevel0_row0\" class=\"row_heading level0 row0\" >0</th>\n",
       "                        <td id=\"T_7fe8aebe_3d29_11ea_9594_54bf648dd46erow0_col0\" class=\"data row0 col0\" ></td>\n",
       "                        <td id=\"T_7fe8aebe_3d29_11ea_9594_54bf648dd46erow0_col1\" class=\"data row0 col1\" >1</td>\n",
       "                        <td id=\"T_7fe8aebe_3d29_11ea_9594_54bf648dd46erow0_col2\" class=\"data row0 col2\" ></td>\n",
       "                        <td id=\"T_7fe8aebe_3d29_11ea_9594_54bf648dd46erow0_col3\" class=\"data row0 col3\" >1</td>\n",
       "                        <td id=\"T_7fe8aebe_3d29_11ea_9594_54bf648dd46erow0_col4\" class=\"data row0 col4\" ></td>\n",
       "            </tr>\n",
       "            <tr>\n",
       "                        <th id=\"T_7fe8aebe_3d29_11ea_9594_54bf648dd46elevel0_row1\" class=\"row_heading level0 row1\" >1</th>\n",
       "                        <td id=\"T_7fe8aebe_3d29_11ea_9594_54bf648dd46erow1_col0\" class=\"data row1 col0\" >0</td>\n",
       "                        <td id=\"T_7fe8aebe_3d29_11ea_9594_54bf648dd46erow1_col1\" class=\"data row1 col1\" >0</td>\n",
       "                        <td id=\"T_7fe8aebe_3d29_11ea_9594_54bf648dd46erow1_col2\" class=\"data row1 col2\" ></td>\n",
       "                        <td id=\"T_7fe8aebe_3d29_11ea_9594_54bf648dd46erow1_col3\" class=\"data row1 col3\" ></td>\n",
       "                        <td id=\"T_7fe8aebe_3d29_11ea_9594_54bf648dd46erow1_col4\" class=\"data row1 col4\" >1</td>\n",
       "            </tr>\n",
       "            <tr>\n",
       "                        <th id=\"T_7fe8aebe_3d29_11ea_9594_54bf648dd46elevel0_row2\" class=\"row_heading level0 row2\" >2</th>\n",
       "                        <td id=\"T_7fe8aebe_3d29_11ea_9594_54bf648dd46erow2_col0\" class=\"data row2 col0\" >0</td>\n",
       "                        <td id=\"T_7fe8aebe_3d29_11ea_9594_54bf648dd46erow2_col1\" class=\"data row2 col1\" >0</td>\n",
       "                        <td id=\"T_7fe8aebe_3d29_11ea_9594_54bf648dd46erow2_col2\" class=\"data row2 col2\" >1</td>\n",
       "                        <td id=\"T_7fe8aebe_3d29_11ea_9594_54bf648dd46erow2_col3\" class=\"data row2 col3\" ></td>\n",
       "                        <td id=\"T_7fe8aebe_3d29_11ea_9594_54bf648dd46erow2_col4\" class=\"data row2 col4\" ></td>\n",
       "            </tr>\n",
       "            <tr>\n",
       "                        <th id=\"T_7fe8aebe_3d29_11ea_9594_54bf648dd46elevel0_row3\" class=\"row_heading level0 row3\" >3</th>\n",
       "                        <td id=\"T_7fe8aebe_3d29_11ea_9594_54bf648dd46erow3_col0\" class=\"data row3 col0\" >0</td>\n",
       "                        <td id=\"T_7fe8aebe_3d29_11ea_9594_54bf648dd46erow3_col1\" class=\"data row3 col1\" >1</td>\n",
       "                        <td id=\"T_7fe8aebe_3d29_11ea_9594_54bf648dd46erow3_col2\" class=\"data row3 col2\" >1</td>\n",
       "                        <td id=\"T_7fe8aebe_3d29_11ea_9594_54bf648dd46erow3_col3\" class=\"data row3 col3\" ></td>\n",
       "                        <td id=\"T_7fe8aebe_3d29_11ea_9594_54bf648dd46erow3_col4\" class=\"data row3 col4\" ></td>\n",
       "            </tr>\n",
       "            <tr>\n",
       "                        <th id=\"T_7fe8aebe_3d29_11ea_9594_54bf648dd46elevel0_row4\" class=\"row_heading level0 row4\" >4</th>\n",
       "                        <td id=\"T_7fe8aebe_3d29_11ea_9594_54bf648dd46erow4_col0\" class=\"data row4 col0\" ></td>\n",
       "                        <td id=\"T_7fe8aebe_3d29_11ea_9594_54bf648dd46erow4_col1\" class=\"data row4 col1\" >0</td>\n",
       "                        <td id=\"T_7fe8aebe_3d29_11ea_9594_54bf648dd46erow4_col2\" class=\"data row4 col2\" ></td>\n",
       "                        <td id=\"T_7fe8aebe_3d29_11ea_9594_54bf648dd46erow4_col3\" class=\"data row4 col3\" >1</td>\n",
       "                        <td id=\"T_7fe8aebe_3d29_11ea_9594_54bf648dd46erow4_col4\" class=\"data row4 col4\" ></td>\n",
       "            </tr>\n",
       "            <tr>\n",
       "                        <th id=\"T_7fe8aebe_3d29_11ea_9594_54bf648dd46elevel0_row5\" class=\"row_heading level0 row5\" >5</th>\n",
       "                        <td id=\"T_7fe8aebe_3d29_11ea_9594_54bf648dd46erow5_col0\" class=\"data row5 col0\" >0</td>\n",
       "                        <td id=\"T_7fe8aebe_3d29_11ea_9594_54bf648dd46erow5_col1\" class=\"data row5 col1\" >1</td>\n",
       "                        <td id=\"T_7fe8aebe_3d29_11ea_9594_54bf648dd46erow5_col2\" class=\"data row5 col2\" ></td>\n",
       "                        <td id=\"T_7fe8aebe_3d29_11ea_9594_54bf648dd46erow5_col3\" class=\"data row5 col3\" ></td>\n",
       "                        <td id=\"T_7fe8aebe_3d29_11ea_9594_54bf648dd46erow5_col4\" class=\"data row5 col4\" >1</td>\n",
       "            </tr>\n",
       "    </tbody></table>"
      ],
      "text/plain": [
       "<pandas.io.formats.style.Styler at 0x7fe0f9c16890>"
      ]
     },
     "execution_count": 8,
     "metadata": {},
     "output_type": "execute_result"
    }
   ],
   "source": [
    "s.as_table()"
   ]
  },
  {
   "cell_type": "code",
   "execution_count": null,
   "metadata": {},
   "outputs": [],
   "source": []
  }
 ],
 "metadata": {
  "kernelspec": {
   "display_name": "Python 3",
   "language": "python",
   "name": "python3"
  },
  "language_info": {
   "codemirror_mode": {
    "name": "ipython",
    "version": 3
   },
   "file_extension": ".py",
   "mimetype": "text/x-python",
   "name": "python",
   "nbconvert_exporter": "python",
   "pygments_lexer": "ipython3",
   "version": "3.7.7"
  }
 },
 "nbformat": 4,
 "nbformat_minor": 2
}
