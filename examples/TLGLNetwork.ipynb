{
 "cells": [
  {
   "cell_type": "code",
   "execution_count": 1,
   "metadata": {},
   "outputs": [],
   "source": [
    "import stablemotifs"
   ]
  },
  {
   "cell_type": "code",
   "execution_count": 2,
   "metadata": {},
   "outputs": [
    {
     "name": "stdout",
     "output_type": "stream",
     "text": [
      "\n",
      "Filename: TLGLNetwork.txt\n",
      "Creating Boolean table directory: TLGLNetwork\n",
      "Boolean table directory created.\n",
      "Creating functions and names files.\n",
      "Functions and names files created.\n",
      "Performing network reduction...\n",
      "Finding stable motifs in this network...\n",
      "There are 4 stable motifs in this network: \n",
      "1/4\tPDGFR=0\tS1P=0\tSPHK1=0\t\n",
      "2/4\tP2=1\t\n",
      "3/4\tTBET=1\t\n",
      "4/4\tCeramide=0\tPDGFR=1\tS1P=1\tSPHK1=1\t\n",
      "There is 1 oscillating motif in this network that could display unstable or incomplete oscillations.\n",
      "Performing network reduction using motif 1/5...\n",
      "Performing network reduction using motif 2/5...\n",
      "Performing network reduction using motif 3/5...\n",
      "Performing network reduction using motif 4/5...\n",
      "Performing network reduction using motif 5/5...\n",
      "Network reduction complete.\n",
      "Removing duplicate quasi-attractors.\n",
      "Total number of quasi-attractors: 3\n",
      "Number of putative quasi-attractors: 0\n",
      "Total time for finding quasi-attractors: 67.006504474 s\n",
      "Writing TXT files with quasi-attractors and stable motifs.\n",
      "Starting analyis of stable motif succession diagram.\n",
      "Identifying quasi-attractors corresponding to stable motif sequences.\n",
      "Shortening stable motif sequences.\n",
      "Finding control sets for each stable motif...\n",
      "Creating control sets for each stable motif sequence.\n",
      "Removing duplicates control sets.\n",
      "Total time for finding stable motif control sets: 18.823828127 s\n",
      "Writing TXT files with stable motif control sets.\n",
      "Done!\n"
     ]
    }
   ],
   "source": [
    "stm = stablemotifs.load(\"models/TLGLNetwork.txt\")"
   ]
  },
  {
   "cell_type": "code",
   "execution_count": 3,
   "metadata": {},
   "outputs": [],
   "source": [
    "from colomoto_jupyter import tabulate"
   ]
  },
  {
   "cell_type": "code",
   "execution_count": 4,
   "metadata": {
    "scrolled": true
   },
   "outputs": [
    {
     "data": {
      "text/markdown": [
       "<table>\n",
       "<thead>\n",
       "<tr><th style=\"text-align: right;\">  </th><th style=\"text-align: right;\">  Cytoskeleton_signaling</th><th style=\"text-align: right;\">  Proliferation</th><th style=\"text-align: right;\">  Apoptosis</th><th style=\"text-align: right;\">  Stimuli2</th><th style=\"text-align: right;\">  Ceramide</th><th style=\"text-align: right;\">  Caspase</th><th style=\"text-align: right;\">  Stimuli</th><th style=\"text-align: right;\">  IL2RAT</th><th style=\"text-align: right;\">  IL2RBT</th><th style=\"text-align: right;\">  RANTES</th><th style=\"text-align: right;\">  IL2RB</th><th style=\"text-align: right;\">  IL2RA</th><th style=\"text-align: right;\">  BclxL</th><th style=\"text-align: right;\">  STAT3</th><th style=\"text-align: right;\">  IFNGT</th><th style=\"text-align: right;\">  PLCG1</th><th style=\"text-align: right;\">  PDGFR</th><th style=\"text-align: right;\">  ZAP70</th><th style=\"text-align: right;\">  SPHK1</th><th>CTLA4  </th><th style=\"text-align: right;\">  TRADD</th><th style=\"text-align: right;\">  FasT</th><th style=\"text-align: right;\">  GRB2</th><th style=\"text-align: right;\">  PDGF</th><th style=\"text-align: right;\">  FasL</th><th style=\"text-align: right;\">  SOCS</th><th style=\"text-align: right;\">  GZMB</th><th style=\"text-align: right;\">  MCL1</th><th style=\"text-align: right;\">  SMAD</th><th style=\"text-align: right;\">  CREB</th><th style=\"text-align: right;\">  NFAT</th><th style=\"text-align: right;\">  FLIP</th><th style=\"text-align: right;\">  TPL2</th><th style=\"text-align: right;\">  CD45</th><th style=\"text-align: right;\">  TBET</th><th style=\"text-align: right;\">  GPCR</th><th style=\"text-align: right;\">  DISC</th><th style=\"text-align: right;\">  IFNG</th><th style=\"text-align: right;\">  NFKB</th><th style=\"text-align: right;\">  IL15</th><th style=\"text-align: right;\">  PI3K</th><th style=\"text-align: right;\">  sFas</th><th style=\"text-align: right;\">  Fas</th><th style=\"text-align: right;\">  JAK</th><th style=\"text-align: right;\">  IL2</th><th style=\"text-align: right;\">  BID</th><th style=\"text-align: right;\">  FYN</th><th style=\"text-align: right;\">  S1P</th><th>TCR  </th><th style=\"text-align: right;\">  A20</th><th style=\"text-align: right;\">  ERK</th><th style=\"text-align: right;\">  IAP</th><th style=\"text-align: right;\">  GAP</th><th style=\"text-align: right;\">  LCK</th><th style=\"text-align: right;\">  MEK</th><th style=\"text-align: right;\">  P27</th><th style=\"text-align: right;\">  TNF</th><th style=\"text-align: right;\">  TAX</th><th style=\"text-align: right;\">  RAS</th><th style=\"text-align: right;\">  P2</th></tr>\n",
       "</thead>\n",
       "<tbody>\n",
       "<tr><td style=\"text-align: right;\"> 0</td><td style=\"text-align: right;\">                       1</td><td style=\"text-align: right;\">              0</td><td style=\"text-align: right;\">          1</td><td style=\"text-align: right;\">         0</td><td style=\"text-align: right;\">         1</td><td style=\"text-align: right;\">        1</td><td style=\"text-align: right;\">        1</td><td style=\"text-align: right;\">       0</td><td style=\"text-align: right;\">       1</td><td style=\"text-align: right;\">       1</td><td style=\"text-align: right;\">      1</td><td style=\"text-align: right;\">      0</td><td style=\"text-align: right;\">      0</td><td style=\"text-align: right;\">      1</td><td style=\"text-align: right;\">      1</td><td style=\"text-align: right;\">      1</td><td style=\"text-align: right;\">      0</td><td style=\"text-align: right;\">      0</td><td style=\"text-align: right;\">      0</td><td>X      </td><td style=\"text-align: right;\">      0</td><td style=\"text-align: right;\">     1</td><td style=\"text-align: right;\">     1</td><td style=\"text-align: right;\">     0</td><td style=\"text-align: right;\">     1</td><td style=\"text-align: right;\">     0</td><td style=\"text-align: right;\">     1</td><td style=\"text-align: right;\">     0</td><td style=\"text-align: right;\">     0</td><td style=\"text-align: right;\">     0</td><td style=\"text-align: right;\">     1</td><td style=\"text-align: right;\">     0</td><td style=\"text-align: right;\">     1</td><td style=\"text-align: right;\">     0</td><td style=\"text-align: right;\">     1</td><td style=\"text-align: right;\">     0</td><td style=\"text-align: right;\">     1</td><td style=\"text-align: right;\">     0</td><td style=\"text-align: right;\">     1</td><td style=\"text-align: right;\">     1</td><td style=\"text-align: right;\">     1</td><td style=\"text-align: right;\">     0</td><td style=\"text-align: right;\">    1</td><td style=\"text-align: right;\">    1</td><td style=\"text-align: right;\">    0</td><td style=\"text-align: right;\">    1</td><td style=\"text-align: right;\">    1</td><td style=\"text-align: right;\">    0</td><td>X    </td><td style=\"text-align: right;\">    1</td><td style=\"text-align: right;\">    1</td><td style=\"text-align: right;\">    0</td><td style=\"text-align: right;\">    0</td><td style=\"text-align: right;\">    1</td><td style=\"text-align: right;\">    1</td><td style=\"text-align: right;\">    1</td><td style=\"text-align: right;\">    1</td><td style=\"text-align: right;\">    0</td><td style=\"text-align: right;\">    1</td><td style=\"text-align: right;\">   1</td></tr>\n",
       "<tr><td style=\"text-align: right;\"> 1</td><td style=\"text-align: right;\">                       1</td><td style=\"text-align: right;\">              0</td><td style=\"text-align: right;\">          0</td><td style=\"text-align: right;\">         0</td><td style=\"text-align: right;\">         0</td><td style=\"text-align: right;\">        0</td><td style=\"text-align: right;\">        1</td><td style=\"text-align: right;\">       0</td><td style=\"text-align: right;\">       1</td><td style=\"text-align: right;\">       1</td><td style=\"text-align: right;\">      1</td><td style=\"text-align: right;\">      0</td><td style=\"text-align: right;\">      0</td><td style=\"text-align: right;\">      1</td><td style=\"text-align: right;\">      1</td><td style=\"text-align: right;\">      1</td><td style=\"text-align: right;\">      1</td><td style=\"text-align: right;\">      0</td><td style=\"text-align: right;\">      1</td><td>X      </td><td style=\"text-align: right;\">      0</td><td style=\"text-align: right;\">     1</td><td style=\"text-align: right;\">     1</td><td style=\"text-align: right;\">     0</td><td style=\"text-align: right;\">     1</td><td style=\"text-align: right;\">     0</td><td style=\"text-align: right;\">     1</td><td style=\"text-align: right;\">     1</td><td style=\"text-align: right;\">     1</td><td style=\"text-align: right;\">     0</td><td style=\"text-align: right;\">     1</td><td style=\"text-align: right;\">     1</td><td style=\"text-align: right;\">     1</td><td style=\"text-align: right;\">     0</td><td style=\"text-align: right;\">     1</td><td style=\"text-align: right;\">     1</td><td style=\"text-align: right;\">     0</td><td style=\"text-align: right;\">     0</td><td style=\"text-align: right;\">     1</td><td style=\"text-align: right;\">     1</td><td style=\"text-align: right;\">     1</td><td style=\"text-align: right;\">     1</td><td style=\"text-align: right;\">    0</td><td style=\"text-align: right;\">    1</td><td style=\"text-align: right;\">    0</td><td style=\"text-align: right;\">    0</td><td style=\"text-align: right;\">    1</td><td style=\"text-align: right;\">    1</td><td>X    </td><td style=\"text-align: right;\">    1</td><td style=\"text-align: right;\">    1</td><td style=\"text-align: right;\">    1</td><td style=\"text-align: right;\">    0</td><td style=\"text-align: right;\">    1</td><td style=\"text-align: right;\">    1</td><td style=\"text-align: right;\">    1</td><td style=\"text-align: right;\">    1</td><td style=\"text-align: right;\">    0</td><td style=\"text-align: right;\">    1</td><td style=\"text-align: right;\">   1</td></tr>\n",
       "<tr><td style=\"text-align: right;\"> 2</td><td style=\"text-align: right;\">                       1</td><td style=\"text-align: right;\">              0</td><td style=\"text-align: right;\">          0</td><td style=\"text-align: right;\">         0</td><td style=\"text-align: right;\">         0</td><td style=\"text-align: right;\">        0</td><td style=\"text-align: right;\">        1</td><td style=\"text-align: right;\">       0</td><td style=\"text-align: right;\">       1</td><td style=\"text-align: right;\">       1</td><td style=\"text-align: right;\">      1</td><td style=\"text-align: right;\">      0</td><td style=\"text-align: right;\">      0</td><td style=\"text-align: right;\">      1</td><td style=\"text-align: right;\">      1</td><td style=\"text-align: right;\">      1</td><td style=\"text-align: right;\">      1</td><td style=\"text-align: right;\">      0</td><td style=\"text-align: right;\">      1</td><td>X      </td><td style=\"text-align: right;\">      0</td><td style=\"text-align: right;\">     1</td><td style=\"text-align: right;\">     1</td><td style=\"text-align: right;\">     0</td><td style=\"text-align: right;\">     1</td><td style=\"text-align: right;\">     0</td><td style=\"text-align: right;\">     1</td><td style=\"text-align: right;\">     1</td><td style=\"text-align: right;\">     1</td><td style=\"text-align: right;\">     0</td><td style=\"text-align: right;\">     1</td><td style=\"text-align: right;\">     1</td><td style=\"text-align: right;\">     1</td><td style=\"text-align: right;\">     0</td><td style=\"text-align: right;\">     1</td><td style=\"text-align: right;\">     1</td><td style=\"text-align: right;\">     0</td><td style=\"text-align: right;\">     0</td><td style=\"text-align: right;\">     1</td><td style=\"text-align: right;\">     1</td><td style=\"text-align: right;\">     1</td><td style=\"text-align: right;\">     1</td><td style=\"text-align: right;\">    0</td><td style=\"text-align: right;\">    1</td><td style=\"text-align: right;\">    0</td><td style=\"text-align: right;\">    0</td><td style=\"text-align: right;\">    1</td><td style=\"text-align: right;\">    1</td><td>X    </td><td style=\"text-align: right;\">    1</td><td style=\"text-align: right;\">    1</td><td style=\"text-align: right;\">    1</td><td style=\"text-align: right;\">    0</td><td style=\"text-align: right;\">    1</td><td style=\"text-align: right;\">    1</td><td style=\"text-align: right;\">    1</td><td style=\"text-align: right;\">    1</td><td style=\"text-align: right;\">    0</td><td style=\"text-align: right;\">    1</td><td style=\"text-align: right;\">   0</td></tr>\n",
       "</tbody>\n",
       "</table>"
      ],
      "text/plain": [
       "<IPython.core.display.Markdown object>"
      ]
     },
     "execution_count": 4,
     "metadata": {},
     "output_type": "execute_result"
    }
   ],
   "source": [
    "tabulate(stm.attractors)"
   ]
  },
  {
   "cell_type": "code",
   "execution_count": 5,
   "metadata": {},
   "outputs": [
    {
     "data": {
      "text/plain": [
       "[{'PDGFR': 0, 'S1P': 0, 'SPHK1': 0},\n",
       " {'P2': 1},\n",
       " {'TBET': 1},\n",
       " {'Ceramide': 0, 'PDGFR': 1, 'S1P': 1, 'SPHK1': 1},\n",
       " {'ERK': 1, 'GRB2': 1, 'IL2RB': 1, 'IL2RBT': 1, 'MEK': 1, 'PI3K': 1, 'RAS': 1},\n",
       " {'Ceramide': 1, 'Fas': 1, 'S1P': 0, 'sFas': 0},\n",
       " {'P2': 0}]"
      ]
     },
     "execution_count": 5,
     "metadata": {},
     "output_type": "execute_result"
    }
   ],
   "source": [
    "stm.stable_motifs"
   ]
  },
  {
   "cell_type": "code",
   "execution_count": 6,
   "metadata": {},
   "outputs": [
    {
     "data": {
      "text/plain": [
       "{0: [{'PDGFR': 0},\n",
       "  {'S1P': 0},\n",
       "  {'SPHK1': 0},\n",
       "  {'Ceramide': 1, 'ERK': 1, 'TBET': 1},\n",
       "  {'Ceramide': 1, 'GRB2': 1, 'TBET': 1},\n",
       "  {'Ceramide': 1, 'IL2RB': 1, 'TBET': 1},\n",
       "  {'Ceramide': 1, 'IL2RBT': 1, 'TBET': 1},\n",
       "  {'Ceramide': 1, 'RAS': 1, 'TBET': 1},\n",
       "  {'Ceramide': 1, 'MEK': 1, 'PI3K': 1, 'TBET': 1}],\n",
       " 1: [{'P2': 1, 'S1P': 1},\n",
       "  {'Ceramide': 0, 'P2': 1, 'PDGFR': 1},\n",
       "  {'Ceramide': 0, 'P2': 1, 'SPHK1': 1}],\n",
       " 2: [{'P2': 0, 'S1P': 1},\n",
       "  {'Ceramide': 0, 'P2': 0, 'PDGFR': 1},\n",
       "  {'Ceramide': 0, 'P2': 0, 'SPHK1': 1}]}"
      ]
     },
     "execution_count": 6,
     "metadata": {},
     "output_type": "execute_result"
    }
   ],
   "source": [
    "stm.control_sets"
   ]
  },
  {
   "cell_type": "code",
   "execution_count": 7,
   "metadata": {},
   "outputs": [
    {
     "data": {
      "text/plain": [
       "[FromAny(PermanentPerturbation(PDGFR=0)),\n",
       " FromAny(PermanentPerturbation(S1P=0)),\n",
       " FromAny(PermanentPerturbation(SPHK1=0)),\n",
       " FromAny(PermanentPerturbation(Ceramide=1, ERK=1, TBET=1)),\n",
       " FromAny(PermanentPerturbation(Ceramide=1, GRB2=1, TBET=1)),\n",
       " FromAny(PermanentPerturbation(Ceramide=1, IL2RB=1, TBET=1)),\n",
       " FromAny(PermanentPerturbation(Ceramide=1, IL2RBT=1, TBET=1)),\n",
       " FromAny(PermanentPerturbation(Ceramide=1, RAS=1, TBET=1)),\n",
       " FromAny(PermanentPerturbation(Ceramide=1, MEK=1, PI3K=1, TBET=1))]"
      ]
     },
     "execution_count": 7,
     "metadata": {},
     "output_type": "execute_result"
    }
   ],
   "source": [
    "stm.reprogramming_to_attractor(Apoptosis=1)"
   ]
  },
  {
   "cell_type": "code",
   "execution_count": 8,
   "metadata": {},
   "outputs": [
    {
     "data": {
      "text/plain": [
       "[FromAny(PermanentPerturbation(P2=1, S1P=1)),\n",
       " FromAny(PermanentPerturbation(Ceramide=0, P2=1, PDGFR=1)),\n",
       " FromAny(PermanentPerturbation(Ceramide=0, P2=1, SPHK1=1)),\n",
       " FromAny(PermanentPerturbation(P2=0, S1P=1)),\n",
       " FromAny(PermanentPerturbation(Ceramide=0, P2=0, PDGFR=1)),\n",
       " FromAny(PermanentPerturbation(Ceramide=0, P2=0, SPHK1=1))]"
      ]
     },
     "execution_count": 8,
     "metadata": {},
     "output_type": "execute_result"
    }
   ],
   "source": [
    "stm.reprogramming_to_attractor(Apoptosis=0)"
   ]
  },
  {
   "cell_type": "code",
   "execution_count": null,
   "metadata": {},
   "outputs": [],
   "source": []
  }
 ],
 "metadata": {
  "kernelspec": {
   "display_name": "Python 3",
   "language": "python3",
   "name": "python3"
  },
  "language_info": {
   "codemirror_mode": {
    "name": "ipython",
    "version": 3
   },
   "file_extension": ".py",
   "mimetype": "text/x-python",
   "name": "python",
   "nbconvert_exporter": "python",
   "pygments_lexer": "ipython3",
   "version": "3.7.3"
  }
 },
 "nbformat": 4,
 "nbformat_minor": 2
}
