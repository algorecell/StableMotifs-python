{
 "cells": [
  {
   "cell_type": "code",
   "execution_count": 1,
   "metadata": {},
   "outputs": [],
   "source": [
    "import stablemotifs"
   ]
  },
  {
   "cell_type": "code",
   "execution_count": 2,
   "metadata": {},
   "outputs": [
    {
     "name": "stdout",
     "output_type": "stream",
     "text": [
      "\n",
      "Filename: TLGLNetwork.txt\n",
      "Creating Boolean table directory: TLGLNetwork\n",
      "Boolean table directory created.\n",
      "Creating functions and names files.\n",
      "Functions and names files created.\n",
      "Performing network reduction...\n",
      "Finding stable motifs in this network...\n",
      "There are 4 stable motifs in this network: \n",
      "1/4\tPDGFR=0\tS1P=0\tSPHK1=0\t\n",
      "2/4\tP2=1\t\n",
      "3/4\tTBET=1\t\n",
      "4/4\tCeramide=0\tPDGFR=1\tS1P=1\tSPHK1=1\t\n",
      "There is 1 oscillating motif in this network that could display unstable or incomplete oscillations.\n",
      "Performing network reduction using motif 1/5...\n",
      "Performing network reduction using motif 2/5...\n",
      "Performing network reduction using motif 3/5...\n",
      "Performing network reduction using motif 4/5...\n",
      "Performing network reduction using motif 5/5...\n",
      "Network reduction complete.\n",
      "Removing duplicate quasi-attractors.\n",
      "Total number of quasi-attractors: 3\n",
      "Number of putative quasi-attractors: 0\n",
      "Total time for finding quasi-attractors: 72.191737849 s\n",
      "Writing TXT files with quasi-attractors and stable motifs.\n",
      "Starting analyis of stable motif succession diagram.\n",
      "Identifying quasi-attractors corresponding to stable motif sequences.\n",
      "Shortening stable motif sequences.\n",
      "Finding control sets for each stable motif...\n",
      "Creating control sets for each stable motif sequence.\n",
      "Removing duplicates control sets.\n",
      "Total time for finding stable motif control sets: 20.571856003 s\n",
      "Writing TXT files with stable motif control sets.\n",
      "Done!\n"
     ]
    }
   ],
   "source": [
    "stm = stablemotifs.load(\"models/TLGLNetwork.txt\")"
   ]
  },
  {
   "cell_type": "code",
   "execution_count": 3,
   "metadata": {},
   "outputs": [],
   "source": [
    "from colomoto_jupyter import tabulate"
   ]
  },
  {
   "cell_type": "code",
   "execution_count": 4,
   "metadata": {
    "scrolled": true
   },
   "outputs": [
    {
     "data": {
      "text/markdown": [
       "<table>\n",
       "<thead>\n",
       "<tr><th style=\"text-align: right;\">  </th><th style=\"text-align: right;\">  Cytoskeleton_signaling</th><th style=\"text-align: right;\">  Proliferation</th><th style=\"text-align: right;\">  Apoptosis</th><th style=\"text-align: right;\">  Stimuli2</th><th style=\"text-align: right;\">  Ceramide</th><th style=\"text-align: right;\">  Caspase</th><th style=\"text-align: right;\">  Stimuli</th><th style=\"text-align: right;\">  IL2RAT</th><th style=\"text-align: right;\">  IL2RBT</th><th style=\"text-align: right;\">  RANTES</th><th style=\"text-align: right;\">  IL2RB</th><th style=\"text-align: right;\">  IL2RA</th><th style=\"text-align: right;\">  BclxL</th><th style=\"text-align: right;\">  STAT3</th><th style=\"text-align: right;\">  IFNGT</th><th style=\"text-align: right;\">  PLCG1</th><th style=\"text-align: right;\">  PDGFR</th><th style=\"text-align: right;\">  ZAP70</th><th style=\"text-align: right;\">  SPHK1</th><th>CTLA4  </th><th style=\"text-align: right;\">  TRADD</th><th style=\"text-align: right;\">  FasT</th><th style=\"text-align: right;\">  GRB2</th><th style=\"text-align: right;\">  PDGF</th><th style=\"text-align: right;\">  FasL</th><th style=\"text-align: right;\">  SOCS</th><th style=\"text-align: right;\">  GZMB</th><th style=\"text-align: right;\">  MCL1</th><th style=\"text-align: right;\">  SMAD</th><th style=\"text-align: right;\">  CREB</th><th style=\"text-align: right;\">  NFAT</th><th style=\"text-align: right;\">  FLIP</th><th style=\"text-align: right;\">  TPL2</th><th style=\"text-align: right;\">  CD45</th><th style=\"text-align: right;\">  TBET</th><th style=\"text-align: right;\">  GPCR</th><th style=\"text-align: right;\">  DISC</th><th style=\"text-align: right;\">  IFNG</th><th style=\"text-align: right;\">  NFKB</th><th style=\"text-align: right;\">  IL15</th><th style=\"text-align: right;\">  PI3K</th><th style=\"text-align: right;\">  sFas</th><th style=\"text-align: right;\">  Fas</th><th style=\"text-align: right;\">  JAK</th><th style=\"text-align: right;\">  IL2</th><th style=\"text-align: right;\">  BID</th><th style=\"text-align: right;\">  FYN</th><th style=\"text-align: right;\">  S1P</th><th>TCR  </th><th style=\"text-align: right;\">  A20</th><th style=\"text-align: right;\">  ERK</th><th style=\"text-align: right;\">  IAP</th><th style=\"text-align: right;\">  GAP</th><th style=\"text-align: right;\">  LCK</th><th style=\"text-align: right;\">  MEK</th><th style=\"text-align: right;\">  P27</th><th style=\"text-align: right;\">  TNF</th><th style=\"text-align: right;\">  TAX</th><th style=\"text-align: right;\">  RAS</th><th style=\"text-align: right;\">  P2</th></tr>\n",
       "</thead>\n",
       "<tbody>\n",
       "<tr><td style=\"text-align: right;\"> 0</td><td style=\"text-align: right;\">                       1</td><td style=\"text-align: right;\">              0</td><td style=\"text-align: right;\">          1</td><td style=\"text-align: right;\">         0</td><td style=\"text-align: right;\">         1</td><td style=\"text-align: right;\">        1</td><td style=\"text-align: right;\">        1</td><td style=\"text-align: right;\">       0</td><td style=\"text-align: right;\">       1</td><td style=\"text-align: right;\">       1</td><td style=\"text-align: right;\">      1</td><td style=\"text-align: right;\">      0</td><td style=\"text-align: right;\">      0</td><td style=\"text-align: right;\">      1</td><td style=\"text-align: right;\">      1</td><td style=\"text-align: right;\">      1</td><td style=\"text-align: right;\">      0</td><td style=\"text-align: right;\">      0</td><td style=\"text-align: right;\">      0</td><td>X      </td><td style=\"text-align: right;\">      0</td><td style=\"text-align: right;\">     1</td><td style=\"text-align: right;\">     1</td><td style=\"text-align: right;\">     0</td><td style=\"text-align: right;\">     1</td><td style=\"text-align: right;\">     0</td><td style=\"text-align: right;\">     1</td><td style=\"text-align: right;\">     0</td><td style=\"text-align: right;\">     0</td><td style=\"text-align: right;\">     0</td><td style=\"text-align: right;\">     1</td><td style=\"text-align: right;\">     0</td><td style=\"text-align: right;\">     1</td><td style=\"text-align: right;\">     0</td><td style=\"text-align: right;\">     1</td><td style=\"text-align: right;\">     0</td><td style=\"text-align: right;\">     1</td><td style=\"text-align: right;\">     0</td><td style=\"text-align: right;\">     1</td><td style=\"text-align: right;\">     1</td><td style=\"text-align: right;\">     1</td><td style=\"text-align: right;\">     0</td><td style=\"text-align: right;\">    1</td><td style=\"text-align: right;\">    1</td><td style=\"text-align: right;\">    0</td><td style=\"text-align: right;\">    1</td><td style=\"text-align: right;\">    1</td><td style=\"text-align: right;\">    0</td><td>X    </td><td style=\"text-align: right;\">    1</td><td style=\"text-align: right;\">    1</td><td style=\"text-align: right;\">    0</td><td style=\"text-align: right;\">    0</td><td style=\"text-align: right;\">    1</td><td style=\"text-align: right;\">    1</td><td style=\"text-align: right;\">    1</td><td style=\"text-align: right;\">    1</td><td style=\"text-align: right;\">    0</td><td style=\"text-align: right;\">    1</td><td style=\"text-align: right;\">   1</td></tr>\n",
       "<tr><td style=\"text-align: right;\"> 1</td><td style=\"text-align: right;\">                       1</td><td style=\"text-align: right;\">              0</td><td style=\"text-align: right;\">          0</td><td style=\"text-align: right;\">         0</td><td style=\"text-align: right;\">         0</td><td style=\"text-align: right;\">        0</td><td style=\"text-align: right;\">        1</td><td style=\"text-align: right;\">       0</td><td style=\"text-align: right;\">       1</td><td style=\"text-align: right;\">       1</td><td style=\"text-align: right;\">      1</td><td style=\"text-align: right;\">      0</td><td style=\"text-align: right;\">      0</td><td style=\"text-align: right;\">      1</td><td style=\"text-align: right;\">      1</td><td style=\"text-align: right;\">      1</td><td style=\"text-align: right;\">      1</td><td style=\"text-align: right;\">      0</td><td style=\"text-align: right;\">      1</td><td>X      </td><td style=\"text-align: right;\">      0</td><td style=\"text-align: right;\">     1</td><td style=\"text-align: right;\">     1</td><td style=\"text-align: right;\">     0</td><td style=\"text-align: right;\">     1</td><td style=\"text-align: right;\">     0</td><td style=\"text-align: right;\">     1</td><td style=\"text-align: right;\">     1</td><td style=\"text-align: right;\">     1</td><td style=\"text-align: right;\">     0</td><td style=\"text-align: right;\">     1</td><td style=\"text-align: right;\">     1</td><td style=\"text-align: right;\">     1</td><td style=\"text-align: right;\">     0</td><td style=\"text-align: right;\">     1</td><td style=\"text-align: right;\">     1</td><td style=\"text-align: right;\">     0</td><td style=\"text-align: right;\">     0</td><td style=\"text-align: right;\">     1</td><td style=\"text-align: right;\">     1</td><td style=\"text-align: right;\">     1</td><td style=\"text-align: right;\">     1</td><td style=\"text-align: right;\">    0</td><td style=\"text-align: right;\">    1</td><td style=\"text-align: right;\">    0</td><td style=\"text-align: right;\">    0</td><td style=\"text-align: right;\">    1</td><td style=\"text-align: right;\">    1</td><td>X    </td><td style=\"text-align: right;\">    1</td><td style=\"text-align: right;\">    1</td><td style=\"text-align: right;\">    1</td><td style=\"text-align: right;\">    0</td><td style=\"text-align: right;\">    1</td><td style=\"text-align: right;\">    1</td><td style=\"text-align: right;\">    1</td><td style=\"text-align: right;\">    1</td><td style=\"text-align: right;\">    0</td><td style=\"text-align: right;\">    1</td><td style=\"text-align: right;\">   1</td></tr>\n",
       "<tr><td style=\"text-align: right;\"> 2</td><td style=\"text-align: right;\">                       1</td><td style=\"text-align: right;\">              0</td><td style=\"text-align: right;\">          0</td><td style=\"text-align: right;\">         0</td><td style=\"text-align: right;\">         0</td><td style=\"text-align: right;\">        0</td><td style=\"text-align: right;\">        1</td><td style=\"text-align: right;\">       0</td><td style=\"text-align: right;\">       1</td><td style=\"text-align: right;\">       1</td><td style=\"text-align: right;\">      1</td><td style=\"text-align: right;\">      0</td><td style=\"text-align: right;\">      0</td><td style=\"text-align: right;\">      1</td><td style=\"text-align: right;\">      1</td><td style=\"text-align: right;\">      1</td><td style=\"text-align: right;\">      1</td><td style=\"text-align: right;\">      0</td><td style=\"text-align: right;\">      1</td><td>X      </td><td style=\"text-align: right;\">      0</td><td style=\"text-align: right;\">     1</td><td style=\"text-align: right;\">     1</td><td style=\"text-align: right;\">     0</td><td style=\"text-align: right;\">     1</td><td style=\"text-align: right;\">     0</td><td style=\"text-align: right;\">     1</td><td style=\"text-align: right;\">     1</td><td style=\"text-align: right;\">     1</td><td style=\"text-align: right;\">     0</td><td style=\"text-align: right;\">     1</td><td style=\"text-align: right;\">     1</td><td style=\"text-align: right;\">     1</td><td style=\"text-align: right;\">     0</td><td style=\"text-align: right;\">     1</td><td style=\"text-align: right;\">     1</td><td style=\"text-align: right;\">     0</td><td style=\"text-align: right;\">     0</td><td style=\"text-align: right;\">     1</td><td style=\"text-align: right;\">     1</td><td style=\"text-align: right;\">     1</td><td style=\"text-align: right;\">     1</td><td style=\"text-align: right;\">    0</td><td style=\"text-align: right;\">    1</td><td style=\"text-align: right;\">    0</td><td style=\"text-align: right;\">    0</td><td style=\"text-align: right;\">    1</td><td style=\"text-align: right;\">    1</td><td>X    </td><td style=\"text-align: right;\">    1</td><td style=\"text-align: right;\">    1</td><td style=\"text-align: right;\">    1</td><td style=\"text-align: right;\">    0</td><td style=\"text-align: right;\">    1</td><td style=\"text-align: right;\">    1</td><td style=\"text-align: right;\">    1</td><td style=\"text-align: right;\">    1</td><td style=\"text-align: right;\">    0</td><td style=\"text-align: right;\">    1</td><td style=\"text-align: right;\">   0</td></tr>\n",
       "</tbody>\n",
       "</table>"
      ],
      "text/plain": [
       "<IPython.core.display.Markdown object>"
      ]
     },
     "execution_count": 4,
     "metadata": {},
     "output_type": "execute_result"
    }
   ],
   "source": [
    "tabulate(stm.attractors)"
   ]
  },
  {
   "cell_type": "code",
   "execution_count": 5,
   "metadata": {},
   "outputs": [
    {
     "data": {
      "text/plain": [
       "[{'PDGFR': 0, 'S1P': 0, 'SPHK1': 0},\n",
       " {'P2': 1},\n",
       " {'TBET': 1},\n",
       " {'Ceramide': 0, 'PDGFR': 1, 'S1P': 1, 'SPHK1': 1},\n",
       " {'ERK': 1, 'GRB2': 1, 'IL2RB': 1, 'IL2RBT': 1, 'MEK': 1, 'PI3K': 1, 'RAS': 1},\n",
       " {'Ceramide': 1, 'Fas': 1, 'S1P': 0, 'sFas': 0},\n",
       " {'P2': 0}]"
      ]
     },
     "execution_count": 5,
     "metadata": {},
     "output_type": "execute_result"
    }
   ],
   "source": [
    "stm.stable_motifs"
   ]
  },
  {
   "cell_type": "code",
   "execution_count": 6,
   "metadata": {},
   "outputs": [
    {
     "data": {
      "text/plain": [
       "{0: [{'PDGFR': 0},\n",
       "  {'S1P': 0},\n",
       "  {'SPHK1': 0},\n",
       "  {'Ceramide': 1, 'ERK': 1, 'TBET': 1},\n",
       "  {'Ceramide': 1, 'GRB2': 1, 'TBET': 1},\n",
       "  {'Ceramide': 1, 'IL2RB': 1, 'TBET': 1},\n",
       "  {'Ceramide': 1, 'IL2RBT': 1, 'TBET': 1},\n",
       "  {'Ceramide': 1, 'RAS': 1, 'TBET': 1},\n",
       "  {'Ceramide': 1, 'MEK': 1, 'PI3K': 1, 'TBET': 1}],\n",
       " 1: [{'P2': 1, 'S1P': 1},\n",
       "  {'Ceramide': 0, 'P2': 1, 'PDGFR': 1},\n",
       "  {'Ceramide': 0, 'P2': 1, 'SPHK1': 1}],\n",
       " 2: [{'P2': 0, 'S1P': 1},\n",
       "  {'Ceramide': 0, 'P2': 0, 'PDGFR': 1},\n",
       "  {'Ceramide': 0, 'P2': 0, 'SPHK1': 1}]}"
      ]
     },
     "execution_count": 6,
     "metadata": {},
     "output_type": "execute_result"
    }
   ],
   "source": [
    "stm.control_sets"
   ]
  },
  {
   "cell_type": "code",
   "execution_count": 7,
   "metadata": {},
   "outputs": [
    {
     "data": {
      "text/plain": [
       "[FromAny(TemporaryPerturbation(P2=1, S1P=1)),\n",
       " FromAny(TemporaryPerturbation(Ceramide=0, P2=1, PDGFR=1)),\n",
       " FromAny(TemporaryPerturbation(Ceramide=0, P2=1, SPHK1=1)),\n",
       " FromAny(TemporaryPerturbation(P2=0, S1P=1)),\n",
       " FromAny(TemporaryPerturbation(Ceramide=0, P2=0, PDGFR=1)),\n",
       " FromAny(TemporaryPerturbation(Ceramide=0, P2=0, SPHK1=1))]"
      ]
     },
     "execution_count": 7,
     "metadata": {},
     "output_type": "execute_result"
    }
   ],
   "source": [
    "s = stm.reprogramming_to_attractor(Apoptosis=0)\n",
    "s"
   ]
  },
  {
   "cell_type": "code",
   "execution_count": 8,
   "metadata": {},
   "outputs": [
    {
     "data": {
      "image/svg+xml": [
       "<?xml version=\"1.0\" encoding=\"UTF-8\" standalone=\"no\"?>\n",
       "<!DOCTYPE svg PUBLIC \"-//W3C//DTD SVG 1.1//EN\"\n",
       " \"http://www.w3.org/Graphics/SVG/1.1/DTD/svg11.dtd\">\n",
       "<!-- Generated by graphviz version 2.42.1 (20190717.1914)\n",
       " -->\n",
       "<!-- Title: %3 Pages: 1 -->\n",
       "<svg width=\"321pt\" height=\"188pt\"\n",
       " viewBox=\"0.00 0.00 321.40 188.40\" xmlns=\"http://www.w3.org/2000/svg\" xmlns:xlink=\"http://www.w3.org/1999/xlink\">\n",
       "<g id=\"graph0\" class=\"graph\" transform=\"scale(1 1) rotate(0) translate(4 184.4)\">\n",
       "<title>%3</title>\n",
       "<polygon fill=\"white\" stroke=\"transparent\" points=\"-4,4 -4,-184.4 317.4,-184.4 317.4,4 -4,4\"/>\n",
       "<!-- target -->\n",
       "<g id=\"node1\" class=\"node\">\n",
       "<title>target</title>\n",
       "<polygon fill=\"palegreen\" stroke=\"black\" points=\"270.2,-105.4 226.8,-87.4 270.2,-69.4 313.6,-87.4 270.2,-105.4\"/>\n",
       "<polyline fill=\"none\" stroke=\"black\" points=\"237.88,-92 237.88,-82.8 \"/>\n",
       "<polyline fill=\"none\" stroke=\"black\" points=\"259.12,-74 281.28,-74 \"/>\n",
       "<polyline fill=\"none\" stroke=\"black\" points=\"302.52,-82.8 302.52,-92 \"/>\n",
       "<polyline fill=\"none\" stroke=\"black\" points=\"281.28,-100.8 259.12,-100.8 \"/>\n",
       "<text text-anchor=\"middle\" x=\"270.2\" y=\"-83.7\" font-family=\"Times,serif\" font-size=\"14.00\">target</text>\n",
       "</g>\n",
       "<!-- any -->\n",
       "<g id=\"node2\" class=\"node\">\n",
       "<title>any</title>\n",
       "<g id=\"a_node2\"><a xlink:title=\"Any\">\n",
       "<ellipse fill=\"none\" stroke=\"black\" stroke-dasharray=\"1,5\" cx=\"27\" cy=\"-87.4\" rx=\"27\" ry=\"18\"/>\n",
       "</a>\n",
       "</g>\n",
       "</g>\n",
       "<!-- any&#45;&gt;target -->\n",
       "<g id=\"edge1\" class=\"edge\">\n",
       "<title>any&#45;&gt;target</title>\n",
       "<path fill=\"none\" stroke=\"black\" d=\"M34.71,-104.91C41.56,-120.03 53.78,-140.9 72,-150.4 125.99,-178.55 153.01,-174.34 209,-150.4 228.12,-142.22 244.07,-124.66 254.73,-110.15\"/>\n",
       "<polygon fill=\"black\" stroke=\"black\" points=\"257.83,-111.83 260.67,-101.62 252.08,-107.83 257.83,-111.83\"/>\n",
       "<g id=\"a_edge1&#45;label\"><a xlink:title=\"TemporaryPerturbation(P2=1, S1P=1)\">\n",
       "<text text-anchor=\"middle\" x=\"140.5\" y=\"-172.4\" font-family=\"Times,serif\" font-size=\"10.00\">T(P2=1, S1P=1)</text>\n",
       "</a>\n",
       "</g>\n",
       "</g>\n",
       "<!-- any&#45;&gt;target -->\n",
       "<g id=\"edge2\" class=\"edge\">\n",
       "<title>any&#45;&gt;target</title>\n",
       "<path fill=\"none\" stroke=\"black\" d=\"M44.37,-101.5C52.19,-107.32 62.01,-113.4 72,-116.4 130.32,-133.89 149.64,-129.95 209,-116.4 220.86,-113.69 233.11,-108.33 243.44,-102.95\"/>\n",
       "<polygon fill=\"black\" stroke=\"black\" points=\"245.23,-105.96 252.31,-98.08 241.86,-99.82 245.23,-105.96\"/>\n",
       "<g id=\"a_edge2&#45;label\"><a xlink:title=\"TemporaryPerturbation(Ceramide=0, P2=1, PDGFR=1)\">\n",
       "<text text-anchor=\"middle\" x=\"140.5\" y=\"-130.4\" font-family=\"Times,serif\" font-size=\"10.00\">T(Ceramide=0, P2=1, PDGFR=1)</text>\n",
       "</a>\n",
       "</g>\n",
       "</g>\n",
       "<!-- any&#45;&gt;target -->\n",
       "<g id=\"edge3\" class=\"edge\">\n",
       "<title>any&#45;&gt;target</title>\n",
       "<path fill=\"none\" stroke=\"black\" d=\"M54.27,-87.4C93.11,-87.4 166.65,-87.4 216.78,-87.4\"/>\n",
       "<polygon fill=\"black\" stroke=\"black\" points=\"216.79,-90.9 226.79,-87.4 216.79,-83.9 216.79,-90.9\"/>\n",
       "<g id=\"a_edge3&#45;label\"><a xlink:title=\"TemporaryPerturbation(Ceramide=0, P2=1, SPHK1=1)\">\n",
       "<text text-anchor=\"middle\" x=\"140.5\" y=\"-90.4\" font-family=\"Times,serif\" font-size=\"10.00\">T(Ceramide=0, P2=1, SPHK1=1)</text>\n",
       "</a>\n",
       "</g>\n",
       "</g>\n",
       "<!-- any&#45;&gt;target -->\n",
       "<g id=\"edge4\" class=\"edge\">\n",
       "<title>any&#45;&gt;target</title>\n",
       "<path fill=\"none\" stroke=\"black\" d=\"M50.47,-78.16C57.27,-75.79 64.83,-73.59 72,-72.4 132.07,-62.44 148.56,-64.98 209,-72.4 217.51,-73.44 226.55,-75.29 234.97,-77.34\"/>\n",
       "<polygon fill=\"black\" stroke=\"black\" points=\"234.29,-80.78 244.85,-79.9 236.05,-74 234.29,-80.78\"/>\n",
       "<g id=\"a_edge4&#45;label\"><a xlink:title=\"TemporaryPerturbation(P2=0, S1P=1)\">\n",
       "<text text-anchor=\"middle\" x=\"140.5\" y=\"-75.4\" font-family=\"Times,serif\" font-size=\"10.00\">T(P2=0, S1P=1)</text>\n",
       "</a>\n",
       "</g>\n",
       "</g>\n",
       "<!-- any&#45;&gt;target -->\n",
       "<g id=\"edge5\" class=\"edge\">\n",
       "<title>any&#45;&gt;target</title>\n",
       "<path fill=\"none\" stroke=\"black\" d=\"M41.38,-71.8C49.34,-63.74 60.18,-54.71 72,-50.4 129.21,-29.54 150.41,-33.83 209,-50.4 222.46,-54.21 235.88,-61.97 246.62,-69.4\"/>\n",
       "<polygon fill=\"black\" stroke=\"black\" points=\"244.81,-72.41 254.95,-75.48 248.93,-66.76 244.81,-72.41\"/>\n",
       "<g id=\"a_edge5&#45;label\"><a xlink:title=\"TemporaryPerturbation(Ceramide=0, P2=0, PDGFR=1)\">\n",
       "<text text-anchor=\"middle\" x=\"140.5\" y=\"-53.4\" font-family=\"Times,serif\" font-size=\"10.00\">T(Ceramide=0, P2=0, PDGFR=1)</text>\n",
       "</a>\n",
       "</g>\n",
       "</g>\n",
       "<!-- any&#45;&gt;target -->\n",
       "<g id=\"edge6\" class=\"edge\">\n",
       "<title>any&#45;&gt;target</title>\n",
       "<path fill=\"none\" stroke=\"black\" d=\"M34.03,-69.74C40.58,-53.62 52.77,-30.78 72,-20.4 125.58,8.52 153.39,4.4 209,-20.4 229.06,-29.34 245.23,-48.64 255.74,-64.23\"/>\n",
       "<polygon fill=\"black\" stroke=\"black\" points=\"252.93,-66.34 261.26,-72.88 258.83,-62.57 252.93,-66.34\"/>\n",
       "<g id=\"a_edge6&#45;label\"><a xlink:title=\"TemporaryPerturbation(Ceramide=0, P2=0, SPHK1=1)\">\n",
       "<text text-anchor=\"middle\" x=\"140.5\" y=\"-23.4\" font-family=\"Times,serif\" font-size=\"10.00\">T(Ceramide=0, P2=0, SPHK1=1)</text>\n",
       "</a>\n",
       "</g>\n",
       "</g>\n",
       "</g>\n",
       "</svg>\n"
      ],
      "text/plain": [
       "<pydot.Dot at 0x7f875e85cc10>"
      ]
     },
     "execution_count": 8,
     "metadata": {},
     "output_type": "execute_result"
    }
   ],
   "source": [
    "s.as_graph()"
   ]
  },
  {
   "cell_type": "code",
   "execution_count": null,
   "metadata": {},
   "outputs": [],
   "source": []
  }
 ],
 "metadata": {
  "kernelspec": {
   "display_name": "Python 3",
   "language": "python",
   "name": "python3"
  },
  "language_info": {
   "codemirror_mode": {
    "name": "ipython",
    "version": 3
   },
   "file_extension": ".py",
   "mimetype": "text/x-python",
   "name": "python",
   "nbconvert_exporter": "python",
   "pygments_lexer": "ipython3",
   "version": "3.7.4"
  }
 },
 "nbformat": 4,
 "nbformat_minor": 2
}
