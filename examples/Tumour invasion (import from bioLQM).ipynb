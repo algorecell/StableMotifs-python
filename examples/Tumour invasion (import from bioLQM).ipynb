{
 "cells": [
  {
   "cell_type": "code",
   "execution_count": 1,
   "metadata": {},
   "outputs": [],
   "source": [
    "import biolqm"
   ]
  },
  {
   "cell_type": "markdown",
   "metadata": {},
   "source": [
    "We use model on \"Molecular Pathways Enabling Tumour Cell Invasion and Migration\" from http://ginsim.org/node/191"
   ]
  },
  {
   "cell_type": "code",
   "execution_count": 2,
   "metadata": {},
   "outputs": [
    {
     "data": {
      "text/markdown": [
       "Downloading 'http://ginsim.org/sites/default/files/SuppMat_Model_Master_Model.zginml'"
      ],
      "text/plain": [
       "<IPython.core.display.Markdown object>"
      ]
     },
     "metadata": {},
     "output_type": "display_data"
    }
   ],
   "source": [
    "lqm = biolqm.load(\"http://ginsim.org/sites/default/files/SuppMat_Model_Master_Model.zginml\")"
   ]
  },
  {
   "cell_type": "code",
   "execution_count": 3,
   "metadata": {},
   "outputs": [],
   "source": [
    "import stablemotifs"
   ]
  },
  {
   "cell_type": "code",
   "execution_count": 4,
   "metadata": {},
   "outputs": [],
   "source": [
    "stm_model = biolqm.save(lqm, \"/tmp/invasion.txt\", \"booleannet\")"
   ]
  },
  {
   "cell_type": "code",
   "execution_count": null,
   "metadata": {},
   "outputs": [
    {
     "name": "stdout",
     "output_type": "stream",
     "text": [
      "\n",
      "Filename: invasion.txt\n",
      "Creating Boolean table directory: invasion\n",
      "Boolean table directory created.\n",
      "Creating functions and names files.\n",
      "Functions and names files created.\n",
      "Performing network reduction...\n",
      "The number of source nodes without specified states is 2\n",
      "Source combination 1/4:\tECMicroenv=0\tDNAdamage=0\t\n",
      "Finding stable motifs in this network...\n",
      "There are 2 stable motifs in this network: \n",
      "1/2\tCDH2=1\tCTNNB1=0\tSNAI1=1\tTWIST1=1\tmiR203=0\tmiR34=0\tp53=0\t\n",
      "2/2\tAKT2=0\tCDH1=1\tCTNNB1=0\tSNAI1=0\tSNAI2=0\tTWIST1=0\tZEB1=0\tZEB2=0\t\n",
      "Performing network reduction using motif 1/2...\n",
      "Performing network reduction using motif 2/2...\n",
      "Source combination 2/4:\tECMicroenv=1\tDNAdamage=0\t\n",
      "Finding stable motifs in this network...\n"
     ]
    }
   ],
   "source": [
    "stm = stablemotifs.load(stm_model)"
   ]
  },
  {
   "cell_type": "code",
   "execution_count": 5,
   "metadata": {},
   "outputs": [],
   "source": [
    "from colomoto_jupyter import tabulate"
   ]
  },
  {
   "cell_type": "code",
   "execution_count": 6,
   "metadata": {
    "scrolled": true
   },
   "outputs": [
    {
     "data": {
      "text/markdown": [
       "<table>\n",
       "<thead>\n",
       "<tr><th style=\"text-align: right;\">  </th><th style=\"text-align: right;\">  Cytoskeleton_signaling</th><th style=\"text-align: right;\">  Proliferation</th><th style=\"text-align: right;\">  Apoptosis</th><th style=\"text-align: right;\">  Stimuli2</th><th style=\"text-align: right;\">  Ceramide</th><th style=\"text-align: right;\">  Caspase</th><th style=\"text-align: right;\">  Stimuli</th><th style=\"text-align: right;\">  IL2RAT</th><th style=\"text-align: right;\">  IL2RBT</th><th style=\"text-align: right;\">  RANTES</th><th style=\"text-align: right;\">  IL2RB</th><th style=\"text-align: right;\">  IL2RA</th><th style=\"text-align: right;\">  BclxL</th><th style=\"text-align: right;\">  STAT3</th><th style=\"text-align: right;\">  IFNGT</th><th style=\"text-align: right;\">  PLCG1</th><th style=\"text-align: right;\">  PDGFR</th><th style=\"text-align: right;\">  ZAP70</th><th style=\"text-align: right;\">  SPHK1</th><th>CTLA4  </th><th style=\"text-align: right;\">  TRADD</th><th style=\"text-align: right;\">  FasT</th><th style=\"text-align: right;\">  GRB2</th><th style=\"text-align: right;\">  PDGF</th><th style=\"text-align: right;\">  FasL</th><th style=\"text-align: right;\">  SOCS</th><th style=\"text-align: right;\">  GZMB</th><th style=\"text-align: right;\">  MCL1</th><th style=\"text-align: right;\">  SMAD</th><th style=\"text-align: right;\">  CREB</th><th style=\"text-align: right;\">  NFAT</th><th style=\"text-align: right;\">  FLIP</th><th style=\"text-align: right;\">  TPL2</th><th style=\"text-align: right;\">  CD45</th><th style=\"text-align: right;\">  TBET</th><th style=\"text-align: right;\">  GPCR</th><th style=\"text-align: right;\">  DISC</th><th style=\"text-align: right;\">  IFNG</th><th style=\"text-align: right;\">  NFKB</th><th style=\"text-align: right;\">  IL15</th><th style=\"text-align: right;\">  PI3K</th><th style=\"text-align: right;\">  sFas</th><th style=\"text-align: right;\">  Fas</th><th style=\"text-align: right;\">  JAK</th><th style=\"text-align: right;\">  IL2</th><th style=\"text-align: right;\">  BID</th><th style=\"text-align: right;\">  FYN</th><th style=\"text-align: right;\">  S1P</th><th>TCR  </th><th style=\"text-align: right;\">  A20</th><th style=\"text-align: right;\">  ERK</th><th style=\"text-align: right;\">  IAP</th><th style=\"text-align: right;\">  GAP</th><th style=\"text-align: right;\">  LCK</th><th style=\"text-align: right;\">  MEK</th><th style=\"text-align: right;\">  P27</th><th style=\"text-align: right;\">  TNF</th><th style=\"text-align: right;\">  TAX</th><th style=\"text-align: right;\">  RAS</th><th style=\"text-align: right;\">  P2</th></tr>\n",
       "</thead>\n",
       "<tbody>\n",
       "<tr><td style=\"text-align: right;\"> 0</td><td style=\"text-align: right;\">                       1</td><td style=\"text-align: right;\">              0</td><td style=\"text-align: right;\">          1</td><td style=\"text-align: right;\">         0</td><td style=\"text-align: right;\">         1</td><td style=\"text-align: right;\">        1</td><td style=\"text-align: right;\">        1</td><td style=\"text-align: right;\">       0</td><td style=\"text-align: right;\">       1</td><td style=\"text-align: right;\">       1</td><td style=\"text-align: right;\">      1</td><td style=\"text-align: right;\">      0</td><td style=\"text-align: right;\">      0</td><td style=\"text-align: right;\">      1</td><td style=\"text-align: right;\">      1</td><td style=\"text-align: right;\">      1</td><td style=\"text-align: right;\">      0</td><td style=\"text-align: right;\">      0</td><td style=\"text-align: right;\">      0</td><td>X      </td><td style=\"text-align: right;\">      0</td><td style=\"text-align: right;\">     1</td><td style=\"text-align: right;\">     1</td><td style=\"text-align: right;\">     0</td><td style=\"text-align: right;\">     1</td><td style=\"text-align: right;\">     0</td><td style=\"text-align: right;\">     1</td><td style=\"text-align: right;\">     0</td><td style=\"text-align: right;\">     0</td><td style=\"text-align: right;\">     0</td><td style=\"text-align: right;\">     1</td><td style=\"text-align: right;\">     0</td><td style=\"text-align: right;\">     1</td><td style=\"text-align: right;\">     0</td><td style=\"text-align: right;\">     1</td><td style=\"text-align: right;\">     0</td><td style=\"text-align: right;\">     1</td><td style=\"text-align: right;\">     0</td><td style=\"text-align: right;\">     1</td><td style=\"text-align: right;\">     1</td><td style=\"text-align: right;\">     1</td><td style=\"text-align: right;\">     0</td><td style=\"text-align: right;\">    1</td><td style=\"text-align: right;\">    1</td><td style=\"text-align: right;\">    0</td><td style=\"text-align: right;\">    1</td><td style=\"text-align: right;\">    1</td><td style=\"text-align: right;\">    0</td><td>X    </td><td style=\"text-align: right;\">    1</td><td style=\"text-align: right;\">    1</td><td style=\"text-align: right;\">    0</td><td style=\"text-align: right;\">    0</td><td style=\"text-align: right;\">    1</td><td style=\"text-align: right;\">    1</td><td style=\"text-align: right;\">    1</td><td style=\"text-align: right;\">    1</td><td style=\"text-align: right;\">    0</td><td style=\"text-align: right;\">    1</td><td style=\"text-align: right;\">   1</td></tr>\n",
       "<tr><td style=\"text-align: right;\"> 1</td><td style=\"text-align: right;\">                       1</td><td style=\"text-align: right;\">              0</td><td style=\"text-align: right;\">          0</td><td style=\"text-align: right;\">         0</td><td style=\"text-align: right;\">         0</td><td style=\"text-align: right;\">        0</td><td style=\"text-align: right;\">        1</td><td style=\"text-align: right;\">       0</td><td style=\"text-align: right;\">       1</td><td style=\"text-align: right;\">       1</td><td style=\"text-align: right;\">      1</td><td style=\"text-align: right;\">      0</td><td style=\"text-align: right;\">      0</td><td style=\"text-align: right;\">      1</td><td style=\"text-align: right;\">      1</td><td style=\"text-align: right;\">      1</td><td style=\"text-align: right;\">      1</td><td style=\"text-align: right;\">      0</td><td style=\"text-align: right;\">      1</td><td>X      </td><td style=\"text-align: right;\">      0</td><td style=\"text-align: right;\">     1</td><td style=\"text-align: right;\">     1</td><td style=\"text-align: right;\">     0</td><td style=\"text-align: right;\">     1</td><td style=\"text-align: right;\">     0</td><td style=\"text-align: right;\">     1</td><td style=\"text-align: right;\">     1</td><td style=\"text-align: right;\">     1</td><td style=\"text-align: right;\">     0</td><td style=\"text-align: right;\">     1</td><td style=\"text-align: right;\">     1</td><td style=\"text-align: right;\">     1</td><td style=\"text-align: right;\">     0</td><td style=\"text-align: right;\">     1</td><td style=\"text-align: right;\">     1</td><td style=\"text-align: right;\">     0</td><td style=\"text-align: right;\">     0</td><td style=\"text-align: right;\">     1</td><td style=\"text-align: right;\">     1</td><td style=\"text-align: right;\">     1</td><td style=\"text-align: right;\">     1</td><td style=\"text-align: right;\">    0</td><td style=\"text-align: right;\">    1</td><td style=\"text-align: right;\">    0</td><td style=\"text-align: right;\">    0</td><td style=\"text-align: right;\">    1</td><td style=\"text-align: right;\">    1</td><td>X    </td><td style=\"text-align: right;\">    1</td><td style=\"text-align: right;\">    1</td><td style=\"text-align: right;\">    1</td><td style=\"text-align: right;\">    0</td><td style=\"text-align: right;\">    1</td><td style=\"text-align: right;\">    1</td><td style=\"text-align: right;\">    1</td><td style=\"text-align: right;\">    1</td><td style=\"text-align: right;\">    0</td><td style=\"text-align: right;\">    1</td><td style=\"text-align: right;\">   1</td></tr>\n",
       "<tr><td style=\"text-align: right;\"> 2</td><td style=\"text-align: right;\">                       1</td><td style=\"text-align: right;\">              0</td><td style=\"text-align: right;\">          0</td><td style=\"text-align: right;\">         0</td><td style=\"text-align: right;\">         0</td><td style=\"text-align: right;\">        0</td><td style=\"text-align: right;\">        1</td><td style=\"text-align: right;\">       0</td><td style=\"text-align: right;\">       1</td><td style=\"text-align: right;\">       1</td><td style=\"text-align: right;\">      1</td><td style=\"text-align: right;\">      0</td><td style=\"text-align: right;\">      0</td><td style=\"text-align: right;\">      1</td><td style=\"text-align: right;\">      1</td><td style=\"text-align: right;\">      1</td><td style=\"text-align: right;\">      1</td><td style=\"text-align: right;\">      0</td><td style=\"text-align: right;\">      1</td><td>X      </td><td style=\"text-align: right;\">      0</td><td style=\"text-align: right;\">     1</td><td style=\"text-align: right;\">     1</td><td style=\"text-align: right;\">     0</td><td style=\"text-align: right;\">     1</td><td style=\"text-align: right;\">     0</td><td style=\"text-align: right;\">     1</td><td style=\"text-align: right;\">     1</td><td style=\"text-align: right;\">     1</td><td style=\"text-align: right;\">     0</td><td style=\"text-align: right;\">     1</td><td style=\"text-align: right;\">     1</td><td style=\"text-align: right;\">     1</td><td style=\"text-align: right;\">     0</td><td style=\"text-align: right;\">     1</td><td style=\"text-align: right;\">     1</td><td style=\"text-align: right;\">     0</td><td style=\"text-align: right;\">     0</td><td style=\"text-align: right;\">     1</td><td style=\"text-align: right;\">     1</td><td style=\"text-align: right;\">     1</td><td style=\"text-align: right;\">     1</td><td style=\"text-align: right;\">    0</td><td style=\"text-align: right;\">    1</td><td style=\"text-align: right;\">    0</td><td style=\"text-align: right;\">    0</td><td style=\"text-align: right;\">    1</td><td style=\"text-align: right;\">    1</td><td>X    </td><td style=\"text-align: right;\">    1</td><td style=\"text-align: right;\">    1</td><td style=\"text-align: right;\">    1</td><td style=\"text-align: right;\">    0</td><td style=\"text-align: right;\">    1</td><td style=\"text-align: right;\">    1</td><td style=\"text-align: right;\">    1</td><td style=\"text-align: right;\">    1</td><td style=\"text-align: right;\">    0</td><td style=\"text-align: right;\">    1</td><td style=\"text-align: right;\">   0</td></tr>\n",
       "</tbody>\n",
       "</table>"
      ],
      "text/plain": [
       "<IPython.core.display.Markdown object>"
      ]
     },
     "execution_count": 6,
     "metadata": {},
     "output_type": "execute_result"
    }
   ],
   "source": [
    "tabulate(stm.attractors)"
   ]
  },
  {
   "cell_type": "code",
   "execution_count": 25,
   "metadata": {},
   "outputs": [
    {
     "data": {
      "text/plain": [
       "{0: [{'PDGFR': 0},\n",
       "  {'S1P': 0},\n",
       "  {'SPHK1': 0},\n",
       "  {'Ceramide': 1, 'ERK': 1, 'TBET': 1},\n",
       "  {'Ceramide': 1, 'GRB2': 1, 'TBET': 1},\n",
       "  {'Ceramide': 1, 'IL2RB': 1, 'TBET': 1},\n",
       "  {'Ceramide': 1, 'IL2RBT': 1, 'TBET': 1},\n",
       "  {'Ceramide': 1, 'RAS': 1, 'TBET': 1},\n",
       "  {'Ceramide': 1, 'MEK': 1, 'PI3K': 1, 'TBET': 1}],\n",
       " 1: [{'P2': 1, 'S1P': 1},\n",
       "  {'Ceramide': 0, 'P2': 1, 'PDGFR': 1},\n",
       "  {'Ceramide': 0, 'P2': 1, 'SPHK1': 1}],\n",
       " 2: [{'P2': 0, 'S1P': 1},\n",
       "  {'Ceramide': 0, 'P2': 0, 'PDGFR': 1},\n",
       "  {'Ceramide': 0, 'P2': 0, 'SPHK1': 1}]}"
      ]
     },
     "execution_count": 25,
     "metadata": {},
     "output_type": "execute_result"
    }
   ],
   "source": [
    "stm.control_sets"
   ]
  },
  {
   "cell_type": "code",
   "execution_count": null,
   "metadata": {},
   "outputs": [],
   "source": []
  }
 ],
 "metadata": {
  "kernelspec": {
   "display_name": "Python 3",
   "language": "python3",
   "name": "python3"
  },
  "language_info": {
   "codemirror_mode": {
    "name": "ipython",
    "version": 3
   },
   "file_extension": ".py",
   "mimetype": "text/x-python",
   "name": "python",
   "nbconvert_exporter": "python",
   "pygments_lexer": "ipython3",
   "version": "3.7.3"
  }
 },
 "nbformat": 4,
 "nbformat_minor": 2
}
