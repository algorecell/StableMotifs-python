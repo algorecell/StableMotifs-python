{
 "cells": [
  {
   "cell_type": "code",
   "execution_count": 1,
   "metadata": {},
   "outputs": [],
   "source": [
    "import stablemotifs\n",
    "import biolqm\n",
    "from colomoto_jupyter import tabulate"
   ]
  },
  {
   "cell_type": "markdown",
   "metadata": {},
   "source": [
    "Model \"miR-9 and timing of neurogenesis (Coolen 2012)\" from http://ginsim.org/node/214"
   ]
  },
  {
   "cell_type": "code",
   "execution_count": 2,
   "metadata": {},
   "outputs": [
    {
     "data": {
      "text/markdown": [
       "Downloading http://ginsim.org/sites/default/files/zebra_miR9_22jul2011.zginml"
      ],
      "text/plain": [
       "<IPython.core.display.Markdown object>"
      ]
     },
     "metadata": {},
     "output_type": "display_data"
    }
   ],
   "source": [
    "lqm = biolqm.load(\"http://ginsim.org/sites/default/files/zebra_miR9_22jul2011.zginml\")"
   ]
  },
  {
   "cell_type": "code",
   "execution_count": 3,
   "metadata": {},
   "outputs": [
    {
     "name": "stdout",
     "output_type": "stream",
     "text": [
      "\n",
      "Filename: model.txt\n",
      "Creating Boolean table directory: model\n",
      "Boolean table directory created.\n",
      "Creating functions and names files.\n",
      "Functions and names files created.\n",
      "Performing network reduction...\n",
      "Finding stable motifs in this network...\n",
      "There are 3 stable motifs in this network: \n",
      "1/3\tHer6=1\tHuC=0\tN=0\tP=1\tmiR9=0\t\n",
      "2/3\tHer6=0\tHuC=0\tN=0\tmiR9=1\t\n",
      "3/3\tHer6=0\tHuC=1\tN=1\tP=0\tZic5=0\tmiR9=0\t\n",
      "Performing network reduction using motif 1/3...\n",
      "Performing network reduction using motif 2/3...\n",
      "Performing network reduction using motif 3/3...\n",
      "Network reduction complete.\n",
      "Removing duplicate quasi-attractors.\n",
      "Total number of quasi-attractors: 3\n",
      "Number of putative quasi-attractors: 0\n",
      "Total time for finding quasi-attractors: 0.188373507 s\n",
      "Writing TXT files with quasi-attractors and stable motifs.\n",
      "Starting analyis of stable motif succession diagram.\n",
      "Identifying quasi-attractors corresponding to stable motif sequences.\n",
      "Shortening stable motif sequences.\n",
      "Finding control sets for each stable motif...\n",
      "Creating control sets for each stable motif sequence.\n",
      "Removing duplicates control sets.\n",
      "Total time for finding stable motif control sets: 1.614674129 s\n",
      "Writing TXT files with stable motif control sets.\n",
      "Done!\n"
     ]
    }
   ],
   "source": [
    "stm = stablemotifs.load(lqm)"
   ]
  },
  {
   "cell_type": "code",
   "execution_count": 4,
   "metadata": {},
   "outputs": [
    {
     "data": {
      "text/markdown": [
       "<table>\n",
       "<thead>\n",
       "<tr><th style=\"text-align: right;\">  </th><th style=\"text-align: right;\">  Zic5</th><th style=\"text-align: right;\">  Her6</th><th style=\"text-align: right;\">  miR9</th><th style=\"text-align: right;\">  HuC</th><th style=\"text-align: right;\">  N</th><th style=\"text-align: right;\">  P</th></tr>\n",
       "</thead>\n",
       "<tbody>\n",
       "<tr><td style=\"text-align: right;\"> 0</td><td style=\"text-align: right;\">     1</td><td style=\"text-align: right;\">     1</td><td style=\"text-align: right;\">     0</td><td style=\"text-align: right;\">    0</td><td style=\"text-align: right;\">  0</td><td style=\"text-align: right;\">  1</td></tr>\n",
       "<tr><td style=\"text-align: right;\"> 1</td><td style=\"text-align: right;\">     0</td><td style=\"text-align: right;\">     0</td><td style=\"text-align: right;\">     1</td><td style=\"text-align: right;\">    0</td><td style=\"text-align: right;\">  0</td><td style=\"text-align: right;\">  0</td></tr>\n",
       "<tr><td style=\"text-align: right;\"> 2</td><td style=\"text-align: right;\">     0</td><td style=\"text-align: right;\">     0</td><td style=\"text-align: right;\">     0</td><td style=\"text-align: right;\">    1</td><td style=\"text-align: right;\">  1</td><td style=\"text-align: right;\">  0</td></tr>\n",
       "</tbody>\n",
       "</table>"
      ],
      "text/plain": [
       "<IPython.core.display.Markdown object>"
      ]
     },
     "execution_count": 4,
     "metadata": {},
     "output_type": "execute_result"
    }
   ],
   "source": [
    "tabulate(stm.attractors)"
   ]
  },
  {
   "cell_type": "code",
   "execution_count": 5,
   "metadata": {},
   "outputs": [
    {
     "data": {
      "text/plain": [
       "[FromAny(TemporaryPerturbation(Her6=1)),\n",
       " FromAny(TemporaryPerturbation(HuC=0, miR9=0)),\n",
       " FromAny(TemporaryPerturbation(N=0, miR9=0)),\n",
       " FromAny(TemporaryPerturbation(P=1, miR9=0))]"
      ]
     },
     "execution_count": 5,
     "metadata": {},
     "output_type": "execute_result"
    }
   ],
   "source": [
    "s = stm.reprogramming_to_attractor(N=0, P=1)\n",
    "s"
   ]
  },
  {
   "cell_type": "code",
   "execution_count": 8,
   "metadata": {},
   "outputs": [
    {
     "name": "stdout",
     "output_type": "stream",
     "text": [
      "FromAny\n",
      "FromAny\n",
      "FromAny\n",
      "FromAny\n"
     ]
    },
    {
     "data": {
      "image/svg+xml": [
       "<?xml version=\"1.0\" encoding=\"UTF-8\" standalone=\"no\"?>\n",
       "<!DOCTYPE svg PUBLIC \"-//W3C//DTD SVG 1.1//EN\"\n",
       " \"http://www.w3.org/Graphics/SVG/1.1/DTD/svg11.dtd\">\n",
       "<!-- Generated by graphviz version 2.42.1 (20190717.1914)\n",
       " -->\n",
       "<!-- Title: %3 Pages: 1 -->\n",
       "<svg width=\"266pt\" height=\"96pt\"\n",
       " viewBox=\"0.00 0.00 266.40 96.05\" xmlns=\"http://www.w3.org/2000/svg\" xmlns:xlink=\"http://www.w3.org/1999/xlink\">\n",
       "<g id=\"graph0\" class=\"graph\" transform=\"scale(1 1) rotate(0) translate(4 92.05)\">\n",
       "<title>%3</title>\n",
       "<polygon fill=\"white\" stroke=\"transparent\" points=\"-4,4 -4,-92.05 262.4,-92.05 262.4,4 -4,4\"/>\n",
       "<!-- target -->\n",
       "<g id=\"node1\" class=\"node\">\n",
       "<title>target</title>\n",
       "<polygon fill=\"palegreen\" stroke=\"black\" points=\"215.2,-60.05 171.8,-42.05 215.2,-24.05 258.6,-42.05 215.2,-60.05\"/>\n",
       "<polyline fill=\"none\" stroke=\"black\" points=\"182.88,-46.64 182.88,-37.45 \"/>\n",
       "<polyline fill=\"none\" stroke=\"black\" points=\"204.12,-28.64 226.28,-28.64 \"/>\n",
       "<polyline fill=\"none\" stroke=\"black\" points=\"247.52,-37.45 247.52,-46.64 \"/>\n",
       "<polyline fill=\"none\" stroke=\"black\" points=\"226.28,-55.45 204.12,-55.45 \"/>\n",
       "<text text-anchor=\"middle\" x=\"215.2\" y=\"-38.35\" font-family=\"Times,serif\" font-size=\"14.00\">target</text>\n",
       "</g>\n",
       "<!-- any -->\n",
       "<g id=\"node2\" class=\"node\">\n",
       "<title>any</title>\n",
       "<g id=\"a_node2\"><a xlink:title=\"Any\">\n",
       "<ellipse fill=\"none\" stroke=\"black\" stroke-dasharray=\"1,5\" cx=\"27\" cy=\"-42.05\" rx=\"27\" ry=\"18\"/>\n",
       "</a>\n",
       "</g>\n",
       "</g>\n",
       "<!-- any&#45;&gt;target -->\n",
       "<g id=\"edge1\" class=\"edge\">\n",
       "<title>any&#45;&gt;target</title>\n",
       "<path fill=\"none\" stroke=\"black\" d=\"M44.37,-56.15C52.19,-61.97 62.01,-68.05 72,-71.05 106.91,-81.52 118.47,-79.16 154,-71.05 165.86,-68.34 178.11,-62.98 188.44,-57.6\"/>\n",
       "<polygon fill=\"black\" stroke=\"black\" points=\"190.23,-60.61 197.31,-52.73 186.86,-54.47 190.23,-60.61\"/>\n",
       "<g id=\"a_edge1&#45;label\"><a xlink:title=\"TemporaryPerturbation(Her6=1)\">\n",
       "<text text-anchor=\"middle\" x=\"113\" y=\"-80.05\" font-family=\"Times,serif\" font-size=\"10.00\">T(Her6=1)</text>\n",
       "</a>\n",
       "</g>\n",
       "</g>\n",
       "<!-- any&#45;&gt;target -->\n",
       "<g id=\"edge2\" class=\"edge\">\n",
       "<title>any&#45;&gt;target</title>\n",
       "<path fill=\"none\" stroke=\"black\" d=\"M54.28,-42.05C82.11,-42.05 126.77,-42.05 161.83,-42.05\"/>\n",
       "<polygon fill=\"black\" stroke=\"black\" points=\"161.91,-45.55 171.91,-42.05 161.91,-38.55 161.91,-45.55\"/>\n",
       "<g id=\"a_edge2&#45;label\"><a xlink:title=\"TemporaryPerturbation(HuC=0, miR9=0)\">\n",
       "<text text-anchor=\"middle\" x=\"113\" y=\"-45.05\" font-family=\"Times,serif\" font-size=\"10.00\">T(HuC=0, miR9=0)</text>\n",
       "</a>\n",
       "</g>\n",
       "</g>\n",
       "<!-- any&#45;&gt;target -->\n",
       "<g id=\"edge3\" class=\"edge\">\n",
       "<title>any&#45;&gt;target</title>\n",
       "<path fill=\"none\" stroke=\"black\" d=\"M50.47,-32.8C57.27,-30.44 64.83,-28.23 72,-27.05 107.95,-21.09 117.83,-22.61 154,-27.05 162.51,-28.09 171.55,-29.94 179.97,-31.98\"/>\n",
       "<polygon fill=\"black\" stroke=\"black\" points=\"179.29,-35.42 189.85,-34.54 181.05,-28.65 179.29,-35.42\"/>\n",
       "<g id=\"a_edge3&#45;label\"><a xlink:title=\"TemporaryPerturbation(N=0, miR9=0)\">\n",
       "<text text-anchor=\"middle\" x=\"113\" y=\"-30.05\" font-family=\"Times,serif\" font-size=\"10.00\">T(N=0, miR9=0)</text>\n",
       "</a>\n",
       "</g>\n",
       "</g>\n",
       "<!-- any&#45;&gt;target -->\n",
       "<g id=\"edge4\" class=\"edge\">\n",
       "<title>any&#45;&gt;target</title>\n",
       "<path fill=\"none\" stroke=\"black\" d=\"M42.38,-26.98C50.34,-19.75 60.85,-11.85 72,-8.05 106.49,3.73 118.75,1.22 154,-8.05 166.75,-11.4 179.64,-18.13 190.2,-24.73\"/>\n",
       "<polygon fill=\"black\" stroke=\"black\" points=\"188.55,-27.83 198.83,-30.4 192.4,-21.98 188.55,-27.83\"/>\n",
       "<g id=\"a_edge4&#45;label\"><a xlink:title=\"TemporaryPerturbation(P=1, miR9=0)\">\n",
       "<text text-anchor=\"middle\" x=\"113\" y=\"-11.05\" font-family=\"Times,serif\" font-size=\"10.00\">T(P=1, miR9=0)</text>\n",
       "</a>\n",
       "</g>\n",
       "</g>\n",
       "</g>\n",
       "</svg>\n"
      ],
      "text/plain": [
       "<pydot.Dot at 0x7f6623363d50>"
      ]
     },
     "execution_count": 8,
     "metadata": {},
     "output_type": "execute_result"
    }
   ],
   "source": [
    "s.as_graph()"
   ]
  },
  {
   "cell_type": "code",
   "execution_count": 9,
   "metadata": {},
   "outputs": [
    {
     "data": {
      "text/plain": [
       "b'<?xml version=\"1.0\" encoding=\"UTF-8\" standalone=\"no\"?>\\n<!DOCTYPE svg PUBLIC \"-//W3C//DTD SVG 1.1//EN\"\\n \"http://www.w3.org/Graphics/SVG/1.1/DTD/svg11.dtd\">\\n<!-- Generated by graphviz version 2.42.1 (20190717.1914)\\n -->\\n<!-- Title: %3 Pages: 1 -->\\n<svg width=\"266pt\" height=\"96pt\"\\n viewBox=\"0.00 0.00 266.40 96.05\" xmlns=\"http://www.w3.org/2000/svg\" xmlns:xlink=\"http://www.w3.org/1999/xlink\">\\n<g id=\"graph0\" class=\"graph\" transform=\"scale(1 1) rotate(0) translate(4 92.05)\">\\n<title>%3</title>\\n<polygon fill=\"white\" stroke=\"transparent\" points=\"-4,4 -4,-92.05 262.4,-92.05 262.4,4 -4,4\"/>\\n<!-- target -->\\n<g id=\"node1\" class=\"node\">\\n<title>target</title>\\n<polygon fill=\"palegreen\" stroke=\"black\" points=\"215.2,-60.05 171.8,-42.05 215.2,-24.05 258.6,-42.05 215.2,-60.05\"/>\\n<polyline fill=\"none\" stroke=\"black\" points=\"182.88,-46.64 182.88,-37.45 \"/>\\n<polyline fill=\"none\" stroke=\"black\" points=\"204.12,-28.64 226.28,-28.64 \"/>\\n<polyline fill=\"none\" stroke=\"black\" points=\"247.52,-37.45 247.52,-46.64 \"/>\\n<polyline fill=\"none\" stroke=\"black\" points=\"226.28,-55.45 204.12,-55.45 \"/>\\n<text text-anchor=\"middle\" x=\"215.2\" y=\"-38.35\" font-family=\"Times,serif\" font-size=\"14.00\">target</text>\\n</g>\\n<!-- any -->\\n<g id=\"node2\" class=\"node\">\\n<title>any</title>\\n<g id=\"a_node2\"><a xlink:title=\"Any\">\\n<ellipse fill=\"none\" stroke=\"black\" stroke-dasharray=\"1,5\" cx=\"27\" cy=\"-42.05\" rx=\"27\" ry=\"18\"/>\\n</a>\\n</g>\\n</g>\\n<!-- any&#45;&gt;target -->\\n<g id=\"edge1\" class=\"edge\">\\n<title>any&#45;&gt;target</title>\\n<path fill=\"none\" stroke=\"black\" d=\"M44.37,-56.15C52.19,-61.97 62.01,-68.05 72,-71.05 106.91,-81.52 118.47,-79.16 154,-71.05 165.86,-68.34 178.11,-62.98 188.44,-57.6\"/>\\n<polygon fill=\"black\" stroke=\"black\" points=\"190.23,-60.61 197.31,-52.73 186.86,-54.47 190.23,-60.61\"/>\\n<g id=\"a_edge1&#45;label\"><a xlink:title=\"TemporaryPerturbation(Her6=1)\">\\n<text text-anchor=\"middle\" x=\"113\" y=\"-80.05\" font-family=\"Times,serif\" font-size=\"10.00\">T(Her6=1)</text>\\n</a>\\n</g>\\n</g>\\n<!-- any&#45;&gt;target -->\\n<g id=\"edge2\" class=\"edge\">\\n<title>any&#45;&gt;target</title>\\n<path fill=\"none\" stroke=\"black\" d=\"M54.28,-42.05C82.11,-42.05 126.77,-42.05 161.83,-42.05\"/>\\n<polygon fill=\"black\" stroke=\"black\" points=\"161.91,-45.55 171.91,-42.05 161.91,-38.55 161.91,-45.55\"/>\\n<g id=\"a_edge2&#45;label\"><a xlink:title=\"TemporaryPerturbation(HuC=0, miR9=0)\">\\n<text text-anchor=\"middle\" x=\"113\" y=\"-45.05\" font-family=\"Times,serif\" font-size=\"10.00\">T(HuC=0, miR9=0)</text>\\n</a>\\n</g>\\n</g>\\n<!-- any&#45;&gt;target -->\\n<g id=\"edge3\" class=\"edge\">\\n<title>any&#45;&gt;target</title>\\n<path fill=\"none\" stroke=\"black\" d=\"M50.47,-32.8C57.27,-30.44 64.83,-28.23 72,-27.05 107.95,-21.09 117.83,-22.61 154,-27.05 162.51,-28.09 171.55,-29.94 179.97,-31.98\"/>\\n<polygon fill=\"black\" stroke=\"black\" points=\"179.29,-35.42 189.85,-34.54 181.05,-28.65 179.29,-35.42\"/>\\n<g id=\"a_edge3&#45;label\"><a xlink:title=\"TemporaryPerturbation(N=0, miR9=0)\">\\n<text text-anchor=\"middle\" x=\"113\" y=\"-30.05\" font-family=\"Times,serif\" font-size=\"10.00\">T(N=0, miR9=0)</text>\\n</a>\\n</g>\\n</g>\\n<!-- any&#45;&gt;target -->\\n<g id=\"edge4\" class=\"edge\">\\n<title>any&#45;&gt;target</title>\\n<path fill=\"none\" stroke=\"black\" d=\"M42.38,-26.98C50.34,-19.75 60.85,-11.85 72,-8.05 106.49,3.73 118.75,1.22 154,-8.05 166.75,-11.4 179.64,-18.13 190.2,-24.73\"/>\\n<polygon fill=\"black\" stroke=\"black\" points=\"188.55,-27.83 198.83,-30.4 192.4,-21.98 188.55,-27.83\"/>\\n<g id=\"a_edge4&#45;label\"><a xlink:title=\"TemporaryPerturbation(P=1, miR9=0)\">\\n<text text-anchor=\"middle\" x=\"113\" y=\"-11.05\" font-family=\"Times,serif\" font-size=\"10.00\">T(P=1, miR9=0)</text>\\n</a>\\n</g>\\n</g>\\n</g>\\n</svg>\\n'"
      ]
     },
     "execution_count": 9,
     "metadata": {},
     "output_type": "execute_result"
    }
   ],
   "source": [
    "_.create_svg()"
   ]
  },
  {
   "cell_type": "code",
   "execution_count": 7,
   "metadata": {},
   "outputs": [
    {
     "data": {
      "text/plain": [
       "{(TemporaryPerturbation(Her6=1),),\n",
       " (TemporaryPerturbation(HuC=0, miR9=0),),\n",
       " (TemporaryPerturbation(N=0, miR9=0),),\n",
       " (TemporaryPerturbation(P=1, miR9=0),)}"
      ]
     },
     "execution_count": 7,
     "metadata": {},
     "output_type": "execute_result"
    }
   ],
   "source": [
    "s.perturbations()"
   ]
  },
  {
   "cell_type": "code",
   "execution_count": null,
   "metadata": {},
   "outputs": [],
   "source": []
  }
 ],
 "metadata": {
  "kernelspec": {
   "display_name": "Python 3",
   "language": "python",
   "name": "python3"
  },
  "language_info": {
   "codemirror_mode": {
    "name": "ipython",
    "version": 3
   },
   "file_extension": ".py",
   "mimetype": "text/x-python",
   "name": "python",
   "nbconvert_exporter": "python",
   "pygments_lexer": "ipython3",
   "version": "3.7.4"
  }
 },
 "nbformat": 4,
 "nbformat_minor": 2
}
